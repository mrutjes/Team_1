{
 "cells": [
  {
   "cell_type": "code",
   "execution_count": 1,
   "id": "981722b7",
   "metadata": {},
   "outputs": [],
   "source": [
    "# import de nodige packages\n",
    "import os\n",
    "import sys\n",
    "import re\n",
    "import math\n",
    "from collections import defaultdict\n",
    "\n",
    "import pandas as pd\n",
    "import numpy as np\n",
    "from tqdm import tqdm\n",
    "\n",
    "import torch\n",
    "from torch_geometric.data import Data, DataLoader\n",
    "from sklearn.model_selection import train_test_split\n",
    "\n",
    "import networkx as nx\n",
    "import matplotlib.pyplot as plt\n",
    "\n",
    "from rdkit import Chem\n",
    "from rdkit.Chem import AllChem, Draw\n",
    "from rdkit.Chem.rdmolfiles import MolFromXYZFile\n",
    "from functions.data_loader import data_loader\n",
    "from classes.smiles_to_graph import MolecularGraphFromSMILES"
   ]
  },
  {
   "cell_type": "markdown",
   "id": "3ae3494a",
   "metadata": {},
   "source": [
    "# Load the data and couple the SMILES to the yields and remove nan's"
   ]
  },
  {
   "cell_type": "code",
   "execution_count": 2,
   "id": "309a757a",
   "metadata": {},
   "outputs": [
    {
     "name": "stdout",
     "output_type": "stream",
     "text": [
      "Merged DataFrame:\n",
      "   compound_id                                        smiles_raw  \\\n",
      "0        comp1                            C1C2=C(N=C(O2)C)C=CC=1   \n",
      "1        comp2                        C1C2=C(N=C(O2)C)C=C(Br)C=1   \n",
      "2        comp3                            C1C2=C(N=C(N2)C)C=CC=1   \n",
      "3        comp4                          C1(Cl)=CC=NC2NC(C)=CC1=2   \n",
      "4        comp5                        C1C2=C(N=C(O2)C)C=C(OC)C=1   \n",
      "..         ...                                               ...   \n",
      "78      comp88  C1C=CC=C2N(C(=O)OC(C)(C)C)C=C([Si]([H])(C)C)C=12   \n",
      "79      comp91                                    C1=CC(F)=NC=C1   \n",
      "80      comp92                                    C1=CC(F)=NC=C1   \n",
      "81      comp93                                    C1=CC(F)=NC=C1   \n",
      "82      comp97                           N1=CC=C(C(F)(F)F)C=C1Cl   \n",
      "\n",
      "   borylation_site  yield  \n",
      "0                1     68  \n",
      "1               11     86  \n",
      "2                2     94  \n",
      "3               10     72  \n",
      "4                1     81  \n",
      "..             ...    ...  \n",
      "78               1     73  \n",
      "79               1     45  \n",
      "80               2     15  \n",
      "81               7     10  \n",
      "82               2     72  \n",
      "\n",
      "[83 rows x 4 columns]\n"
     ]
    }
   ],
   "source": [
    "\n",
    "yields_path = \"data/compounds_yield.csv\"\n",
    "smiles_path = \"data/compounds_smiles.csv\"\n",
    "\n",
    "df_merged = data_loader(yields_path, smiles_path)\n",
    "\n",
    "\n",
    "print(\"Merged DataFrame:\")\n",
    "print(df_merged)\n"
   ]
  },
  {
   "cell_type": "markdown",
   "id": "7c0a2886",
   "metadata": {},
   "source": [
    "Convert the SMILES to Graphs"
   ]
  },
  {
   "cell_type": "code",
   "execution_count": 3,
   "id": "2515b5c5",
   "metadata": {},
   "outputs": [
    {
     "data": {
      "image/png": "[encoded data removed]",
      "text/plain": [
       "<Figure size 640x480 with 1 Axes>"
      ]
     },
     "metadata": {},
     "output_type": "display_data"
    },
    {
     "name": "stdout",
     "output_type": "stream",
     "text": [
      "Data(x=[4, 16], edge_index=[2, 6], edge_attr=[6, 3])\n"
     ]
    }
   ],
   "source": [
    "# Create a molecule from a SMILES string\n",
    "smiles = \"CC(=O)O\"  \n",
    "mol_graph = MolecularGraphFromSMILES(smiles)\n",
    "\n",
    "# Visualize the molecule with bond orders\n",
    "mol_graph.visualize()\n",
    "\n",
    "# Convert to PyTorch Geometric format\n",
    "pyg_data = mol_graph.to_pyg_data()\n",
    "print(pyg_data)"
   ]
  },
  {
   "cell_type": "markdown",
   "id": "656e5f5e",
   "metadata": {},
   "source": [
    "## Zet de SMILES om naar graphs"
   ]
  },
  {
   "cell_type": "code",
   "execution_count": 4,
   "id": "08f329e9",
   "metadata": {},
   "outputs": [
    {
     "name": "stderr",
     "output_type": "stream",
     "text": [
      "Converting SMILES to graphs: 100%|██████████| 83/83 [00:00<00:00, 2803.66it/s]\n"
     ]
    }
   ],
   "source": [
    "\n",
    "graphs = []\n",
    "for _, row in tqdm(df_merged.iterrows(), total=len(df_merged), desc=\"Converting SMILES to graphs\"):\n",
    "    try:\n",
    "        graph = MolecularGraphFromSMILES(row['smiles_raw']).to_pyg_data()\n",
    "        graph.y = torch.tensor([row['yield']], dtype=torch.float)\n",
    "        graphs.append(graph)\n",
    "    except Exception as e:\n",
    "        print(f\"Fout bij SMILES: {row['smiles_raw']}, error: {e}\")\n"
   ]
  },
  {
   "cell_type": "markdown",
   "id": "d4939680",
   "metadata": {},
   "source": [
    "## Zet de graphs in een dataloader zodat het de GNN in kan"
   ]
  },
  {
   "cell_type": "code",
   "execution_count": 5,
   "id": "994279aa",
   "metadata": {},
   "outputs": [
    {
     "name": "stderr",
     "output_type": "stream",
     "text": [
      "/Users/noraannastraub/.local/share/mamba/envs/ml4chem_gnn/lib/python3.12/site-packages/torch_geometric/deprecation.py:26: UserWarning: 'data.DataLoader' is deprecated, use 'loader.DataLoader' instead\n",
      "  warnings.warn(out)\n"
     ]
    }
   ],
   "source": [
    "# Split de lijst met graphs\n",
    "train_graphs, test_graphs = train_test_split(graphs, test_size=0.2, random_state=42)\n",
    "\n",
    "# Maak DataLoaders aan voor training en evaluatie\n",
    "train_loader = DataLoader(train_graphs, batch_size=32, shuffle=True)\n",
    "test_loader = DataLoader(test_graphs, batch_size=32, shuffle=False)"
   ]
  },
  {
   "cell_type": "code",
   "execution_count": 6,
   "id": "2ea75601",
   "metadata": {},
   "outputs": [],
   "source": [
    "for batch in train_loader:\n",
    "    x = batch.x\n",
    "    edge_index = batch.edge_index\n",
    "    edge_attr = batch.edge_attr\n",
    "    y = batch.y\n",
    "    batch_vector = batch.batch"
   ]
  }
 ],
 "metadata": {
  "kernelspec": {
   "display_name": "Python (VSCode)",
   "language": "python",
   "name": "python-vscode"
  },
  "language_info": {
   "codemirror_mode": {
    "name": "ipython",
    "version": 3
   },
   "file_extension": ".py",
   "mimetype": "text/x-python",
   "name": "python",
   "nbconvert_exporter": "python",
   "pygments_lexer": "ipython3",
   "version": "3.12.10"
  }
 },
 "nbformat": 4,
 "nbformat_minor": 5
}
