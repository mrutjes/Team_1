{
 "cells": [
  {
   "cell_type": "code",
   "execution_count": 2,
   "id": "59df304c",
   "metadata": {},
   "outputs": [],
   "source": [
    "import pandas as pd\n",
    "import numpy as np\n",
    "import re \n",
    "import os\n",
    "import sys\n",
    "\n",
    "#Deze staan ook in rdkithelperdinges\n",
    "# noinspection PyPackageRequirements\n",
    "import rdkit\n",
    "\n",
    "# noinspection PyPackageRequirements\n",
    "import rdkit.Chem.AllChem\n",
    "\n",
    "# noinspection PyPackageRequirements\n",
    "import rdkit.Chem.Draw\n",
    "\n",
    "# noinspection PyPackageRequirements\n",
    "import rdkit.Chem.rdmolfiles\n",
    "\n",
    "from rdkit.Chem.rdmolfiles import  MolFromXYZFile\n",
    "from rdkit.Chem import AllChem"
   ]
  },
  {
   "cell_type": "markdown",
   "id": "05323d4e",
   "metadata": {},
   "source": [
    "# Load the data and couple the SMILES to the yields and remove nan's"
   ]
  },
  {
   "cell_type": "code",
   "execution_count": 3,
   "id": "ddc67cb3",
   "metadata": {},
   "outputs": [
    {
     "name": "stdout",
     "output_type": "stream",
     "text": [
      "Merged DataFrame:\n",
      "   compound_id                                        smiles_raw some_number  \\\n",
      "0        comp1                            C1C2=C(N=C(O2)C)C=CC=1           1   \n",
      "1        comp2                        C1C2=C(N=C(O2)C)C=C(Br)C=1          11   \n",
      "2        comp3                            C1C2=C(N=C(N2)C)C=CC=1           2   \n",
      "3        comp4                          C1(Cl)=CC=NC2NC(C)=CC1=2          10   \n",
      "4        comp5                        C1C2=C(N=C(O2)C)C=C(OC)C=1           1   \n",
      "..         ...                                               ...         ...   \n",
      "78      comp88  C1C=CC=C2N(C(=O)OC(C)(C)C)C=C([Si]([H])(C)C)C=12           1   \n",
      "79      comp91                                    C1=CC(F)=NC=C1           1   \n",
      "80      comp92                                    C1=CC(F)=NC=C1           2   \n",
      "81      comp93                                    C1=CC(F)=NC=C1           7   \n",
      "82      comp97                           N1=CC=C(C(F)(F)F)C=C1Cl           2   \n",
      "\n",
      "   yield  \n",
      "0     68  \n",
      "1     86  \n",
      "2     94  \n",
      "3     72  \n",
      "4     81  \n",
      "..   ...  \n",
      "78    73  \n",
      "79    45  \n",
      "80    15  \n",
      "81    10  \n",
      "82    72  \n",
      "\n",
      "[83 rows x 4 columns]\n"
     ]
    }
   ],
   "source": [
    "# --- 1. Bestanden inlezen als ruwe tekst ---\n",
    "yields_path = \"data/compounds_yield.csv\"\n",
    "smiles_path = \"data/compounds_smiles.csv\"\n",
    "\n",
    "# --- 2. Parser voor yields: hoogste percentage extraheren ---\n",
    "yield_data = []\n",
    "with open(yields_path, \"r\") as f:\n",
    "    for line in f:\n",
    "        line = line.strip()\n",
    "        if not line:\n",
    "            continue\n",
    "        parts = line.split(\" \", 1)\n",
    "        if len(parts) == 2:\n",
    "            compound_id, yield_info = parts\n",
    "            percentages = re.findall(r'(\\d+)%', yield_info)\n",
    "            if percentages:\n",
    "                max_yield = max(map(int, percentages))\n",
    "                yield_data.append((compound_id, str(max_yield)))\n",
    "\n",
    "df_yields_clean = pd.DataFrame(yield_data, columns=[\"compound_id\", \"yield\"])\n",
    "\n",
    "# --- 3. Parser voor SMILES ---\n",
    "smiles_data = []\n",
    "with open(smiles_path, \"r\") as f:\n",
    "    for line in f:\n",
    "        parts = [p.strip() for p in line.strip().split(\",\")]\n",
    "        if len(parts) == 4:\n",
    "            compound_id, smiles_raw, number, _ = parts  # ignore smiles_normalized\n",
    "            smiles_data.append((compound_id, smiles_raw, number))\n",
    "\n",
    "df_smiles_clean = pd.DataFrame(\n",
    "    smiles_data,\n",
    "    columns=[\"compound_id\", \"smiles_raw\", \"some_number\"]\n",
    ")\n",
    "\n",
    "# --- 4. Merge op compound_id ---\n",
    "df_merged = pd.merge(df_smiles_clean, df_yields_clean, on=\"compound_id\", how=\"inner\")\n",
    "\n",
    "print(\"Merged DataFrame:\")\n",
    "print(df_merged)\n"
   ]
  },
  {
   "cell_type": "markdown",
   "id": "2a183232",
   "metadata": {},
   "source": [
    "Convert the SMILES to Graphs"
   ]
  },
  {
   "cell_type": "code",
   "execution_count": 9,
   "id": "80a7ddba",
   "metadata": {},
   "outputs": [],
   "source": [
    "def smiles_to_rdkit_molecule(smiles_str):\n",
    "    # Convert SMILES string to RDKit mol object\n",
    "    mol = rdkit.Chem.MolFromSmiles(smiles_str)\n",
    "    \n",
    "    # Add hydrogens to the molecule\n",
    "    #mol = rdkit.Chem.AddHs(mol)\n",
    "\n",
    "    AllChem.EmbedMolecule(mol, AllChem.ETKDGv3())\n",
    "    \n",
    "    return mol"
   ]
  },
  {
   "cell_type": "code",
   "execution_count": 5,
   "id": "d27039fe",
   "metadata": {},
   "outputs": [],
   "source": [
    "def rdkit_molecule_to_xyz_data (molecule):\n",
    "   xyz_molecule = rdkit.Chem.MolToXYZBlock(molecule)\n",
    "   return xyz_molecule"
   ]
  },
  {
   "cell_type": "code",
   "execution_count": 6,
   "id": "a0da5a75",
   "metadata": {},
   "outputs": [
    {
     "name": "stdout",
     "output_type": "stream",
     "text": [
      "<rdkit.Chem.rdchem.Mol object at 0x12348a6a0>\n",
      "17\n",
      "\n",
      "C     -1.348565   -0.931470   -1.055078\n",
      "C     -0.150763   -0.424992   -0.563752\n",
      "C     -0.194279    0.379231    0.563974\n",
      "N      1.093581    0.705187    0.787817\n",
      "C      1.899268    0.146782   -0.133745\n",
      "O      1.104279   -0.526915   -0.929900\n",
      "C      3.396362    0.270020   -0.229585\n",
      "C     -1.403466    0.669820    1.184673\n",
      "C     -2.599512    0.168062    0.699609\n",
      "Br    -4.270215    0.562652    1.547595\n",
      "C     -2.547610   -0.638043   -0.432239\n",
      "H     -1.326795   -1.566886   -1.943858\n",
      "H      3.831955   -0.632296    0.242218\n",
      "H      3.712058    0.370150   -1.304639\n",
      "H      3.686927    1.196234    0.340609\n",
      "H     -1.410379    1.298647    2.061624\n",
      "H     -3.472849   -1.046183   -0.835324\n",
      "\n",
      "type:<class 'str'>\n"
     ]
    }
   ],
   "source": [
    "smiles_test=\"C1C2=C(N=C(O2)C)C=C(Br)C=1\"\n",
    "test1=smiles_to_rdkit_molecule(smiles_test)\n",
    "print(test1)\n",
    "\n",
    "test1_xyz=rdkit_molecule_to_xyz_data(test1)\n",
    "print(test1_xyz)\n",
    "print(f\"type:{type(test1_xyz)}\")\n"
   ]
  },
  {
   "cell_type": "code",
   "execution_count": 11,
   "id": "0f97325f",
   "metadata": {},
   "outputs": [],
   "source": [
    "import math\n",
    "from collections import defaultdict\n",
    "import torch\n",
    "from torch_geometric.data import Data\n",
    "import networkx as nx\n",
    "import matplotlib.pyplot as plt\n",
    "\n",
    "COVALENT_RADII = {\n",
    "    \"H\": 0.31, \"C\": 0.76, \"N\": 0.71, \"O\": 0.66, \"Br\": 1.14,\n",
    "}\n",
    "\n",
    "ATOM_NUMBERS = {\n",
    "    \"H\": 1, \"C\": 6, \"N\": 7, \"O\": 8, \"Br\": 35,\n",
    "}\n",
    "\n",
    "class MolecularGraph:\n",
    "    def __init__(self, xyz_string: str):\n",
    "        self.atoms = []  # (element, x, y, z)\n",
    "        self.graph = defaultdict(list)\n",
    "        self._parse_xyz_string(xyz_string)\n",
    "        self._build_graph()\n",
    "\n",
    "    def _parse_xyz_string(self, xyz_string: str):\n",
    "        lines = xyz_string.strip().splitlines()\n",
    "        atom_lines = lines[2:]  # Skip header\n",
    "\n",
    "        for line in atom_lines:\n",
    "            parts = line.split()\n",
    "            if len(parts) == 4:\n",
    "                element, x, y, z = parts\n",
    "                self.atoms.append((element, float(x), float(y), float(z)))\n",
    "\n",
    "    def _distance(self, a, b):\n",
    "        _, x1, y1, z1 = a\n",
    "        _, x2, y2, z2 = b\n",
    "        return math.sqrt((x2 - x1)**2 + (y2 - y1)**2 + (z2 - z1)**2)\n",
    "\n",
    "    def _build_graph(self):\n",
    "        n = len(self.atoms)\n",
    "        for i in range(n):\n",
    "            for j in range(i+1, n):\n",
    "                elem1 = self.atoms[i][0]\n",
    "                elem2 = self.atoms[j][0]\n",
    "                if elem1 not in COVALENT_RADII or elem2 not in COVALENT_RADII:\n",
    "                    continue\n",
    "                cutoff = 1.2 * (COVALENT_RADII[elem1] + COVALENT_RADII[elem2])\n",
    "                if self._distance(self.atoms[i], self.atoms[j]) <= cutoff:\n",
    "                    self.graph[i].append(j)\n",
    "                    self.graph[j].append(i)\n",
    "\n",
    "    def to_pyg_data(self) -> Data:\n",
    "        # Node features: atomic number\n",
    "        x = torch.tensor([[ATOM_NUMBERS[atom[0]]] for atom in self.atoms], dtype=torch.long)\n",
    "\n",
    "        # Edge index\n",
    "        edge_index = []\n",
    "        for i in self.graph:\n",
    "            for j in self.graph[i]:\n",
    "                edge_index.append([i, j])\n",
    "\n",
    "        edge_index = torch.tensor(edge_index, dtype=torch.long).t().contiguous()\n",
    "\n",
    "        # Optional: 3D coordinates\n",
    "        pos = torch.tensor([coords[1:] for coords in self.atoms], dtype=torch.float)\n",
    "\n",
    "        return Data(x=x, edge_index=edge_index, pos=pos)\n",
    "\n",
    "    def visualize(self, with_labels=True, layout=\"spring\"):\n",
    "        G = nx.Graph()\n",
    "        for i, atom in enumerate(self.atoms):\n",
    "            G.add_node(i, label=atom[0])\n",
    "        for i, neighbors in self.graph.items():\n",
    "            for j in neighbors:\n",
    "                if not G.has_edge(i, j):\n",
    "                    G.add_edge(i, j)\n",
    "\n",
    "        if layout == \"spring\":\n",
    "            pos = nx.spring_layout(G)\n",
    "        elif layout == \"kamada\":\n",
    "            pos = nx.kamada_kawai_layout(G)\n",
    "        elif layout == \"3d\":\n",
    "            pos = {i: atom[1:] for i, atom in enumerate(self.atoms)}\n",
    "        else:\n",
    "            raise ValueError(\"Onbekende layout\")\n",
    "\n",
    "        labels = nx.get_node_attributes(G, 'label')\n",
    "        nx.draw(G, pos, labels=labels if with_labels else None, with_labels=with_labels,\n",
    "                node_color='skyblue', node_size=800, font_size=10)\n",
    "        plt.show()\n"
   ]
  },
  {
   "cell_type": "code",
   "execution_count": 12,
   "id": "0b6bca3c",
   "metadata": {},
   "outputs": [
    {
     "name": "stderr",
     "output_type": "stream",
     "text": [
      "[16:44:54] Molecule does not have explicit Hs. Consider calling AddHs()\n"
     ]
    },
    {
     "data": {
      "image/png": "[encoded data removed]",
      "text/plain": [
       "<Figure size 640x480 with 1 Axes>"
      ]
     },
     "metadata": {},
     "output_type": "display_data"
    },
    {
     "name": "stdout",
     "output_type": "stream",
     "text": [
      "Data(x=[4, 1], edge_index=[2, 6], pos=[4, 3])\n"
     ]
    }
   ],
   "source": [
    "mol = smiles_to_rdkit_molecule(\"CC(=O)O\")  # Azijnzuur\n",
    "xyz_str = rdkit_molecule_to_xyz_data(mol)\n",
    "\n",
    "g = MolecularGraph(xyz_str)\n",
    "g.visualize()\n",
    "pyg_data = g.to_pyg_data()\n",
    "\n",
    "print(pyg_data)\n"
   ]
  },
  {
   "cell_type": "code",
   "execution_count": null,
   "id": "70adda79",
   "metadata": {},
   "outputs": [],
   "source": []
  }
 ],
 "metadata": {
  "kernelspec": {
   "display_name": "sobo",
   "language": "python",
   "name": "python3"
  },
  "language_info": {
   "codemirror_mode": {
    "name": "ipython",
    "version": 3
   },
   "file_extension": ".py",
   "mimetype": "text/x-python",
   "name": "python",
   "nbconvert_exporter": "python",
   "pygments_lexer": "ipython3",
   "version": "3.9.21"
  }
 },
 "nbformat": 4,
 "nbformat_minor": 5
}
