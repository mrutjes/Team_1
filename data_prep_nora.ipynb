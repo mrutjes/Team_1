{
 "cells": [
  {
   "cell_type": "code",
   "execution_count": 1,
   "id": "59df304c",
   "metadata": {},
   "outputs": [],
   "source": [
    "import pandas as pd\n",
    "import numpy as np\n",
    "import re \n",
    "import os\n",
    "import sys\n",
    "\n",
    "#Deze staan ook in rdkithelperdinges\n",
    "# noinspection PyPackageRequirements\n",
    "import rdkit\n",
    "\n",
    "# noinspection PyPackageRequirements\n",
    "import rdkit.Chem.AllChem\n",
    "\n",
    "# noinspection PyPackageRequirements\n",
    "import rdkit.Chem.Draw\n",
    "\n",
    "# noinspection PyPackageRequirements\n",
    "import rdkit.Chem.rdmolfiles\n",
    "\n",
    "from rdkit.Chem.rdmolfiles import  MolFromXYZFile\n",
    "from rdkit.Chem import AllChem"
   ]
  },
  {
   "cell_type": "markdown",
   "id": "05323d4e",
   "metadata": {},
   "source": [
    "# Load the data and couple the SMILES to the yields and remove nan's"
   ]
  },
  {
   "cell_type": "code",
   "execution_count": 2,
   "id": "ddc67cb3",
   "metadata": {},
   "outputs": [
    {
     "name": "stdout",
     "output_type": "stream",
     "text": [
      "Merged DataFrame:\n",
      "   compound_id                                        smiles_raw some_number  \\\n",
      "0        comp1                            C1C2=C(N=C(O2)C)C=CC=1           1   \n",
      "1        comp2                        C1C2=C(N=C(O2)C)C=C(Br)C=1          11   \n",
      "2        comp3                            C1C2=C(N=C(N2)C)C=CC=1           2   \n",
      "3        comp4                          C1(Cl)=CC=NC2NC(C)=CC1=2          10   \n",
      "4        comp5                        C1C2=C(N=C(O2)C)C=C(OC)C=1           1   \n",
      "..         ...                                               ...         ...   \n",
      "78      comp88  C1C=CC=C2N(C(=O)OC(C)(C)C)C=C([Si]([H])(C)C)C=12           1   \n",
      "79      comp91                                    C1=CC(F)=NC=C1           1   \n",
      "80      comp92                                    C1=CC(F)=NC=C1           2   \n",
      "81      comp93                                    C1=CC(F)=NC=C1           7   \n",
      "82      comp97                           N1=CC=C(C(F)(F)F)C=C1Cl           2   \n",
      "\n",
      "   yield  \n",
      "0     68  \n",
      "1     86  \n",
      "2     94  \n",
      "3     72  \n",
      "4     81  \n",
      "..   ...  \n",
      "78    73  \n",
      "79    45  \n",
      "80    15  \n",
      "81    10  \n",
      "82    72  \n",
      "\n",
      "[83 rows x 4 columns]\n"
     ]
    }
   ],
   "source": [
    "# --- 1. Bestanden inlezen als ruwe tekst ---\n",
    "yields_path = \"data/compounds_yield.csv\"\n",
    "smiles_path = \"data/compounds_smiles.csv\"\n",
    "\n",
    "# --- 2. Parser voor yields: hoogste percentage extraheren ---\n",
    "yield_data = []\n",
    "with open(yields_path, \"r\") as f:\n",
    "    for line in f:\n",
    "        line = line.strip()\n",
    "        if not line:\n",
    "            continue\n",
    "        parts = line.split(\" \", 1)\n",
    "        if len(parts) == 2:\n",
    "            compound_id, yield_info = parts\n",
    "            percentages = re.findall(r'(\\d+)%', yield_info)\n",
    "            if percentages:\n",
    "                max_yield = max(map(int, percentages))\n",
    "                yield_data.append((compound_id, str(max_yield)))\n",
    "\n",
    "df_yields_clean = pd.DataFrame(yield_data, columns=[\"compound_id\", \"yield\"])\n",
    "\n",
    "# --- 3. Parser voor SMILES ---\n",
    "smiles_data = []\n",
    "with open(smiles_path, \"r\") as f:\n",
    "    for line in f:\n",
    "        parts = [p.strip() for p in line.strip().split(\",\")]\n",
    "        if len(parts) == 4:\n",
    "            compound_id, smiles_raw, number, _ = parts  # ignore smiles_normalized\n",
    "            smiles_data.append((compound_id, smiles_raw, number))\n",
    "\n",
    "df_smiles_clean = pd.DataFrame(\n",
    "    smiles_data,\n",
    "    columns=[\"compound_id\", \"smiles_raw\", \"some_number\"]\n",
    ")\n",
    "\n",
    "# --- 4. Merge op compound_id ---\n",
    "df_merged = pd.merge(df_smiles_clean, df_yields_clean, on=\"compound_id\", how=\"inner\")\n",
    "\n",
    "print(\"Merged DataFrame:\")\n",
    "print(df_merged)\n"
   ]
  },
  {
   "cell_type": "markdown",
   "id": "2a183232",
   "metadata": {},
   "source": [
    "Convert the SMILES to Graphs"
   ]
  },
  {
   "cell_type": "code",
   "execution_count": 3,
   "id": "80a7ddba",
   "metadata": {},
   "outputs": [],
   "source": [
    "def smiles_to_rdkit_molecule(smiles_str):\n",
    "    # Convert SMILES string to RDKit mol object\n",
    "    mol = rdkit.Chem.MolFromSmiles(smiles_str)\n",
    "    \n",
    "    # Add hydrogens to the molecule\n",
    "    mol = rdkit.Chem.AddHs(mol)\n",
    "\n",
    "    AllChem.EmbedMolecule(mol, AllChem.ETKDGv3())\n",
    "    \n",
    "    return mol"
   ]
  },
  {
   "cell_type": "code",
   "execution_count": 4,
   "id": "d27039fe",
   "metadata": {},
   "outputs": [],
   "source": [
    "def rdkit_molecule_to_xyz_data (molecule):\n",
    "   xyz_molecule = rdkit.Chem.MolToXYZBlock(molecule)\n",
    "   return xyz_molecule"
   ]
  },
  {
   "cell_type": "code",
   "execution_count": 5,
   "id": "a0da5a75",
   "metadata": {},
   "outputs": [
    {
     "name": "stdout",
     "output_type": "stream",
     "text": [
      "<rdkit.Chem.rdchem.Mol object at 0x108237840>\n",
      "17\n",
      "\n",
      "C     -1.372177   -0.952395   -1.082560\n",
      "C     -0.176280   -0.454749   -0.564692\n",
      "C     -0.208677    0.394170    0.523757\n",
      "N      1.089626    0.711154    0.800539\n",
      "C      1.878803    0.062712   -0.106496\n",
      "O      1.088560   -0.630564   -0.914587\n",
      "C      3.364574    0.139175   -0.155743\n",
      "C     -1.382347    0.785248    1.139820\n",
      "C     -2.565536    0.292564    0.627042\n",
      "Br    -4.202656    0.817841    1.460523\n",
      "C     -2.545752   -0.564451   -0.470510\n",
      "H     -1.350857   -1.614712   -1.931367\n",
      "H      3.776957   -0.759321    0.346060\n",
      "H      3.738839    0.196224   -1.216588\n",
      "H      3.685350    1.058735    0.407003\n",
      "H     -1.341482    1.450747    1.986537\n",
      "H     -3.476944   -0.932379   -0.848739\n",
      "\n"
     ]
    }
   ],
   "source": [
    "smiles_test=\"C1C2=C(N=C(O2)C)C=C(Br)C=1\"\n",
    "test1=smiles_to_rdkit_molecule(smiles_test)\n",
    "print(test1)\n",
    "\n",
    "test1_xyz=rdkit_molecule_to_xyz_data(test1)\n",
    "print(test1_xyz)\n"
   ]
  },
  {
   "cell_type": "code",
   "execution_count": null,
   "id": "0f97325f",
   "metadata": {},
   "outputs": [],
   "source": []
  }
 ],
 "metadata": {
  "kernelspec": {
   "display_name": "Python (VSCode)",
   "language": "python",
   "name": "python-vscode"
  },
  "language_info": {
   "codemirror_mode": {
    "name": "ipython",
    "version": 3
   },
   "file_extension": ".py",
   "mimetype": "text/x-python",
   "name": "python",
   "nbconvert_exporter": "python",
   "pygments_lexer": "ipython3",
   "version": "3.12.10"
  }
 },
 "nbformat": 4,
 "nbformat_minor": 5
}
