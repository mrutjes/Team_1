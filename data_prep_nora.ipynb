{
 "cells": [
  {
   "cell_type": "code",
   "execution_count": 43,
   "id": "59df304c",
   "metadata": {},
   "outputs": [],
   "source": [
    "import pandas as pd\n",
    "import numpy as np\n",
    "import os\n",
    "import sys\n",
    "\n",
    "#Deze staan ook in rdkithelperdinges\n",
    "# noinspection PyPackageRequirements\n",
    "import rdkit\n",
    "\n",
    "# noinspection PyPackageRequirements\n",
    "import rdkit.Chem.AllChem\n",
    "\n",
    "# noinspection PyPackageRequirements\n",
    "import rdkit.Chem.Draw\n",
    "\n",
    "# noinspection PyPackageRequirements\n",
    "import rdkit.Chem.rdmolfiles\n",
    "\n",
    "from rdkit.Chem.rdmolfiles import  MolFromXYZFile\n",
    "from rdkit.Chem import AllChem"
   ]
  },
  {
   "cell_type": "markdown",
   "id": "05323d4e",
   "metadata": {},
   "source": [
    "# Load the data and couple the SMILES to the yields and remove nan's"
   ]
  },
  {
   "cell_type": "code",
   "execution_count": 44,
   "id": "ddc67cb3",
   "metadata": {},
   "outputs": [
    {
     "ename": "ParserError",
     "evalue": "Error tokenizing data. C error: Expected 4 fields in line 9, saw 6\n",
     "output_type": "error",
     "traceback": [
      "\u001b[31m---------------------------------------------------------------------------\u001b[39m",
      "\u001b[31mParserError\u001b[39m                               Traceback (most recent call last)",
      "\u001b[36mCell\u001b[39m\u001b[36m \u001b[39m\u001b[32mIn[44]\u001b[39m\u001b[32m, line 4\u001b[39m\n\u001b[32m      1\u001b[39m db_dir_smiles = \u001b[33m\"\u001b[39m\u001b[33mdata/compounds_smiles.csv\u001b[39m\u001b[33m\"\u001b[39m\n\u001b[32m      2\u001b[39m db_dir_yields = \u001b[33m\"\u001b[39m\u001b[33mdata/compounds_yield.csv\u001b[39m\u001b[33m\"\u001b[39m\n\u001b[32m----> \u001b[39m\u001b[32m4\u001b[39m db_smiles = \u001b[43mpd\u001b[49m\u001b[43m.\u001b[49m\u001b[43mread_csv\u001b[49m\u001b[43m(\u001b[49m\u001b[43mdb_dir_smiles\u001b[49m\u001b[43m)\u001b[49m\n\u001b[32m      5\u001b[39m db_yields = pd.read_csv(db_dir_yields)\n",
      "\u001b[36mFile \u001b[39m\u001b[32m~/.local/share/mamba/envs/ml4chem_gnn/lib/python3.12/site-packages/pandas/io/parsers/readers.py:1026\u001b[39m, in \u001b[36mread_csv\u001b[39m\u001b[34m(filepath_or_buffer, sep, delimiter, header, names, index_col, usecols, dtype, engine, converters, true_values, false_values, skipinitialspace, skiprows, skipfooter, nrows, na_values, keep_default_na, na_filter, verbose, skip_blank_lines, parse_dates, infer_datetime_format, keep_date_col, date_parser, date_format, dayfirst, cache_dates, iterator, chunksize, compression, thousands, decimal, lineterminator, quotechar, quoting, doublequote, escapechar, comment, encoding, encoding_errors, dialect, on_bad_lines, delim_whitespace, low_memory, memory_map, float_precision, storage_options, dtype_backend)\u001b[39m\n\u001b[32m   1013\u001b[39m kwds_defaults = _refine_defaults_read(\n\u001b[32m   1014\u001b[39m     dialect,\n\u001b[32m   1015\u001b[39m     delimiter,\n\u001b[32m   (...)\u001b[39m\u001b[32m   1022\u001b[39m     dtype_backend=dtype_backend,\n\u001b[32m   1023\u001b[39m )\n\u001b[32m   1024\u001b[39m kwds.update(kwds_defaults)\n\u001b[32m-> \u001b[39m\u001b[32m1026\u001b[39m \u001b[38;5;28;01mreturn\u001b[39;00m \u001b[43m_read\u001b[49m\u001b[43m(\u001b[49m\u001b[43mfilepath_or_buffer\u001b[49m\u001b[43m,\u001b[49m\u001b[43m \u001b[49m\u001b[43mkwds\u001b[49m\u001b[43m)\u001b[49m\n",
      "\u001b[36mFile \u001b[39m\u001b[32m~/.local/share/mamba/envs/ml4chem_gnn/lib/python3.12/site-packages/pandas/io/parsers/readers.py:626\u001b[39m, in \u001b[36m_read\u001b[39m\u001b[34m(filepath_or_buffer, kwds)\u001b[39m\n\u001b[32m    623\u001b[39m     \u001b[38;5;28;01mreturn\u001b[39;00m parser\n\u001b[32m    625\u001b[39m \u001b[38;5;28;01mwith\u001b[39;00m parser:\n\u001b[32m--> \u001b[39m\u001b[32m626\u001b[39m     \u001b[38;5;28;01mreturn\u001b[39;00m \u001b[43mparser\u001b[49m\u001b[43m.\u001b[49m\u001b[43mread\u001b[49m\u001b[43m(\u001b[49m\u001b[43mnrows\u001b[49m\u001b[43m)\u001b[49m\n",
      "\u001b[36mFile \u001b[39m\u001b[32m~/.local/share/mamba/envs/ml4chem_gnn/lib/python3.12/site-packages/pandas/io/parsers/readers.py:1923\u001b[39m, in \u001b[36mTextFileReader.read\u001b[39m\u001b[34m(self, nrows)\u001b[39m\n\u001b[32m   1916\u001b[39m nrows = validate_integer(\u001b[33m\"\u001b[39m\u001b[33mnrows\u001b[39m\u001b[33m\"\u001b[39m, nrows)\n\u001b[32m   1917\u001b[39m \u001b[38;5;28;01mtry\u001b[39;00m:\n\u001b[32m   1918\u001b[39m     \u001b[38;5;66;03m# error: \"ParserBase\" has no attribute \"read\"\u001b[39;00m\n\u001b[32m   1919\u001b[39m     (\n\u001b[32m   1920\u001b[39m         index,\n\u001b[32m   1921\u001b[39m         columns,\n\u001b[32m   1922\u001b[39m         col_dict,\n\u001b[32m-> \u001b[39m\u001b[32m1923\u001b[39m     ) = \u001b[38;5;28;43mself\u001b[39;49m\u001b[43m.\u001b[49m\u001b[43m_engine\u001b[49m\u001b[43m.\u001b[49m\u001b[43mread\u001b[49m\u001b[43m(\u001b[49m\u001b[43m  \u001b[49m\u001b[38;5;66;43;03m# type: ignore[attr-defined]\u001b[39;49;00m\n\u001b[32m   1924\u001b[39m \u001b[43m        \u001b[49m\u001b[43mnrows\u001b[49m\n\u001b[32m   1925\u001b[39m \u001b[43m    \u001b[49m\u001b[43m)\u001b[49m\n\u001b[32m   1926\u001b[39m \u001b[38;5;28;01mexcept\u001b[39;00m \u001b[38;5;167;01mException\u001b[39;00m:\n\u001b[32m   1927\u001b[39m     \u001b[38;5;28mself\u001b[39m.close()\n",
      "\u001b[36mFile \u001b[39m\u001b[32m~/.local/share/mamba/envs/ml4chem_gnn/lib/python3.12/site-packages/pandas/io/parsers/c_parser_wrapper.py:234\u001b[39m, in \u001b[36mCParserWrapper.read\u001b[39m\u001b[34m(self, nrows)\u001b[39m\n\u001b[32m    232\u001b[39m \u001b[38;5;28;01mtry\u001b[39;00m:\n\u001b[32m    233\u001b[39m     \u001b[38;5;28;01mif\u001b[39;00m \u001b[38;5;28mself\u001b[39m.low_memory:\n\u001b[32m--> \u001b[39m\u001b[32m234\u001b[39m         chunks = \u001b[38;5;28;43mself\u001b[39;49m\u001b[43m.\u001b[49m\u001b[43m_reader\u001b[49m\u001b[43m.\u001b[49m\u001b[43mread_low_memory\u001b[49m\u001b[43m(\u001b[49m\u001b[43mnrows\u001b[49m\u001b[43m)\u001b[49m\n\u001b[32m    235\u001b[39m         \u001b[38;5;66;03m# destructive to chunks\u001b[39;00m\n\u001b[32m    236\u001b[39m         data = _concatenate_chunks(chunks)\n",
      "\u001b[36mFile \u001b[39m\u001b[32mparsers.pyx:838\u001b[39m, in \u001b[36mpandas._libs.parsers.TextReader.read_low_memory\u001b[39m\u001b[34m()\u001b[39m\n",
      "\u001b[36mFile \u001b[39m\u001b[32mparsers.pyx:905\u001b[39m, in \u001b[36mpandas._libs.parsers.TextReader._read_rows\u001b[39m\u001b[34m()\u001b[39m\n",
      "\u001b[36mFile \u001b[39m\u001b[32mparsers.pyx:874\u001b[39m, in \u001b[36mpandas._libs.parsers.TextReader._tokenize_rows\u001b[39m\u001b[34m()\u001b[39m\n",
      "\u001b[36mFile \u001b[39m\u001b[32mparsers.pyx:891\u001b[39m, in \u001b[36mpandas._libs.parsers.TextReader._check_tokenize_status\u001b[39m\u001b[34m()\u001b[39m\n",
      "\u001b[36mFile \u001b[39m\u001b[32mparsers.pyx:2061\u001b[39m, in \u001b[36mpandas._libs.parsers.raise_parser_error\u001b[39m\u001b[34m()\u001b[39m\n",
      "\u001b[31mParserError\u001b[39m: Error tokenizing data. C error: Expected 4 fields in line 9, saw 6\n"
     ]
    }
   ],
   "source": [
    "db_dir_smiles = \"data/compounds_smiles.csv\"\n",
    "db_dir_yields = \"data/compounds_yield.csv\"\n",
    "\n",
    "db_smiles = pd.read_csv(db_dir_smiles)\n",
    "db_yields = pd.read_csv(db_dir_yields)\n",
    "\n",
    "\n"
   ]
  },
  {
   "cell_type": "markdown",
   "id": "2a183232",
   "metadata": {},
   "source": [
    "Convert the SMILES to Graphs"
   ]
  },
  {
   "cell_type": "code",
   "execution_count": 45,
   "id": "80a7ddba",
   "metadata": {},
   "outputs": [],
   "source": [
    "def smiles_to_rdkit_molecule(smiles_str):\n",
    "    # Convert SMILES string to RDKit mol object\n",
    "    mol = rdkit.Chem.MolFromSmiles(smiles_str)\n",
    "    \n",
    "    # Add hydrogens to the molecule\n",
    "    mol = rdkit.Chem.AddHs(mol)\n",
    "\n",
    "    AllChem.EmbedMolecule(mol, AllChem.ETKDGv3())\n",
    "    \n",
    "    return mol"
   ]
  },
  {
   "cell_type": "code",
   "execution_count": 46,
   "id": "d27039fe",
   "metadata": {},
   "outputs": [],
   "source": [
    "def rdkit_molecule_to_xyz_data (molecule):\n",
    "   xyz_molecule = rdkit.Chem.MolToXYZBlock(molecule)\n",
    "   return xyz_molecule"
   ]
  },
  {
   "cell_type": "code",
   "execution_count": 47,
   "id": "a0da5a75",
   "metadata": {},
   "outputs": [
    {
     "name": "stdout",
     "output_type": "stream",
     "text": [
      "<rdkit.Chem.rdchem.Mol object at 0x15008fb50>\n",
      "17\n",
      "\n",
      "C      1.226818    1.528381    0.191948\n",
      "C      0.116325    0.712228    0.092385\n",
      "C      0.249657   -0.659740   -0.149385\n",
      "N     -0.996833   -1.210089   -0.198008\n",
      "C     -1.863271   -0.178032    0.012358\n",
      "O     -1.175342    0.920997    0.176466\n",
      "C     -3.346975   -0.280618    0.049840\n",
      "C      1.509633   -1.235974   -0.295716\n",
      "C      2.618733   -0.399384   -0.192574\n",
      "Br     4.374232   -1.097950   -0.378402\n",
      "C      2.466543    0.934546    0.043329\n",
      "H      1.104579    2.591285    0.379952\n",
      "H     -3.830142    0.123775   -0.862665\n",
      "H     -3.636172   -1.338733    0.143635\n",
      "H     -3.753559    0.271282    0.934419\n",
      "H      1.612184   -2.296254   -0.482544\n",
      "H      3.323589    1.614280    0.128762\n",
      "\n"
     ]
    }
   ],
   "source": [
    "smiles_test=\"C1C2=C(N=C(O2)C)C=C(Br)C=1\"\n",
    "test1=smiles_to_rdkit_molecule(smiles_test)\n",
    "print(test1)\n",
    "\n",
    "test1_xyz=rdkit_molecule_to_xyz_data(test1)\n",
    "print(test1_xyz)\n"
   ]
  },
  {
   "cell_type": "code",
   "execution_count": null,
   "id": "0f97325f",
   "metadata": {},
   "outputs": [],
   "source": []
  }
 ],
 "metadata": {
  "kernelspec": {
   "display_name": "Python (VSCode)",
   "language": "python",
   "name": "python-vscode"
  },
  "language_info": {
   "codemirror_mode": {
    "name": "ipython",
    "version": 3
   },
   "file_extension": ".py",
   "mimetype": "text/x-python",
   "name": "python",
   "nbconvert_exporter": "python",
   "pygments_lexer": "ipython3",
   "version": "3.12.10"
  }
 },
 "nbformat": 4,
 "nbformat_minor": 5
}
