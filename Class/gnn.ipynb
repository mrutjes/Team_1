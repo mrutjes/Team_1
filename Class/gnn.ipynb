{
 "cells": [
  {
   "cell_type": "code",
   "execution_count": null,
   "id": "733aae20",
   "metadata": {},
   "outputs": [],
   "source": [
    "class GNN(torch.nn.Module):\n",
    "    def __init__(self):\n",
    "        super(GNN, self).__init__()\n",
    "        self.conv_1 = \n",
    "\n",
    "    def forward(self, x,....):\n",
    "        k = self.conv_1(x)\n",
    "\n",
    "\n",
    "\n",
    "\n",
    "        return k \n"
   ]
  },
  {
   "cell_type": "markdown",
   "id": "de22c4f5",
   "metadata": {},
   "source": [
    "I've modified the architecture into a node-level predictor: it now outputs a score per atom indicating the likelihood of being the borylation site. This version replaces the graph-level readout with a node_predictor head suitable for binary classification per node."
   ]
  },
  {
   "cell_type": "code",
   "execution_count": null,
   "id": "af0b9c86",
   "metadata": {},
   "outputs": [],
   "source": [
    "import torch\n",
    "import torch.nn as nn\n",
    "from dgl.nn.pytorch import NNConv\n",
    "\n",
    "class MPNN_NodeClassifier(nn.Module):\n",
    "    def __init__(self, node_in_feats, edge_in_feats, hidden_feats=64, num_step_message_passing=3):\n",
    "        super(MPNN_NodeClassifier, self).__init__()\n",
    "\n",
    "        self.project_node_feats = nn.Sequential(\n",
    "            nn.Linear(node_in_feats, hidden_feats),\n",
    "            nn.ReLU()\n",
    "        )\n",
    "\n",
    "        edge_network = nn.Linear(edge_in_feats, hidden_feats * hidden_feats)\n",
    "\n",
    "        self.gnn_layer = NNConv(\n",
    "            in_feats=hidden_feats,\n",
    "            out_feats=hidden_feats,\n",
    "            edge_func=edge_network,\n",
    "            aggregator_type='sum'\n",
    "        )\n",
    "\n",
    "        self.activation = nn.ReLU()\n",
    "        self.gru = nn.GRU(hidden_feats, hidden_feats)\n",
    "\n",
    "        self.node_predictor = nn.Sequential(\n",
    "            nn.Linear(hidden_feats, hidden_feats),\n",
    "            nn.ReLU(),\n",
    "            nn.Linear(hidden_feats, 1)  # Predicting a binary label: is borylation site or not\n",
    "        )\n",
    "\n",
    "        self.num_step_message_passing = num_step_message_passing\n",
    "\n",
    "    def forward(self, g):\n",
    "        node_feats = g.ndata['attr']  # shape: [num_nodes, node_in_feats]\n",
    "        edge_feats = g.edata['edge_attr']\n",
    "\n",
    "        node_feats = self.project_node_feats(node_feats)  # shape: [num_nodes, hidden_feats]\n",
    "        hidden_feats = node_feats.unsqueeze(0)  # shape: [1, num_nodes, hidden_feats]\n",
    "\n",
    "        for _ in range(self.num_step_message_passing):\n",
    "            node_feats_new = self.activation(self.gnn_layer(g, node_feats, edge_feats)).unsqueeze(0)\n",
    "            node_feats, hidden_feats = self.gru(node_feats_new, hidden_feats)\n",
    "            node_feats = node_feats.squeeze(0)\n",
    "\n",
    "        g.ndata['node_logits'] = self.node_predictor(node_feats).squeeze(-1)  # shape: [num_nodes]\n",
    "        return g.ndata['node_logits']\n",
    "\n",
    "\n",
    "# Example usage:\n",
    "# model = MPNN_NodeClassifier(node_in_feats=ATOM_FEATURE_DIM, edge_in_feats=BOND_FEATURE_DIM)\n",
    "# logits = model(graph)\n",
    "# Apply torch.sigmoid(logits) if using BCEWithLogitsLoss during training\n"
   ]
  },
  {
   "cell_type": "code",
   "execution_count": null,
   "id": "690089c4",
   "metadata": {},
   "outputs": [],
   "source": []
  }
 ],
 "metadata": {
  "language_info": {
   "name": "python"
  }
 },
 "nbformat": 4,
 "nbformat_minor": 5
}
