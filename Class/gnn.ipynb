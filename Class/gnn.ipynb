{
 "cells": [
  {
   "cell_type": "code",
   "execution_count": null,
   "id": "733aae20",
   "metadata": {},
   "outputs": [],
   "source": [
    "class GNN(torch.nn.Module):\n",
    "    def __init__(self):\n",
    "        super(GNN, self).__init__()\n",
    "        self.conv_1 = \n",
    "\n",
    "    def forward(self, x,....):\n",
    "        k = self.conv_1(x)\n",
    "\n",
    "\n",
    "\n",
    "\n",
    "        return k \n"
   ]
  }
 ],
 "metadata": {
  "language_info": {
   "name": "python"
  }
 },
 "nbformat": 4,
 "nbformat_minor": 5
}
