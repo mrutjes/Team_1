{
 "cells": [
  {
   "cell_type": "code",
   "execution_count": 1,
   "id": "981722b7",
   "metadata": {},
   "outputs": [],
   "source": [
    "# import de nodige packages\n",
    "import pandas as pd\n",
    "import numpy as np\n",
    "import re \n",
    "import os\n",
    "import sys\n",
    "import networkx as nx\n",
    "import math\n",
    "from collections import defaultdict\n",
    "import torch\n",
    "from torch_geometric.data import Data\n",
    "import networkx as nx\n",
    "import matplotlib.pyplot as plt\n",
    "\n",
    "import rdkit\n",
    "from rdkit import Chem\n",
    "import rdkit.Chem.AllChem\n",
    "import rdkit.Chem.Draw\n",
    "import rdkit.Chem.rdmolfiles\n",
    "from rdkit.Chem.rdmolfiles import  MolFromXYZFile\n",
    "from rdkit.Chem import AllChem\n",
    "\n"
   ]
  },
  {
   "cell_type": "markdown",
   "id": "3ae3494a",
   "metadata": {},
   "source": [
    "# Load the data and couple the SMILES to the yields and remove nan's"
   ]
  },
  {
   "cell_type": "code",
   "execution_count": 2,
   "id": "309a757a",
   "metadata": {},
   "outputs": [
    {
     "name": "stdout",
     "output_type": "stream",
     "text": [
      "Merged DataFrame:\n",
      "   compound_id                                        smiles_raw some_number  \\\n",
      "0        comp1                            C1C2=C(N=C(O2)C)C=CC=1           1   \n",
      "1        comp2                        C1C2=C(N=C(O2)C)C=C(Br)C=1          11   \n",
      "2        comp3                            C1C2=C(N=C(N2)C)C=CC=1           2   \n",
      "3        comp4                          C1(Cl)=CC=NC2NC(C)=CC1=2          10   \n",
      "4        comp5                        C1C2=C(N=C(O2)C)C=C(OC)C=1           1   \n",
      "..         ...                                               ...         ...   \n",
      "78      comp88  C1C=CC=C2N(C(=O)OC(C)(C)C)C=C([Si]([H])(C)C)C=12           1   \n",
      "79      comp91                                    C1=CC(F)=NC=C1           1   \n",
      "80      comp92                                    C1=CC(F)=NC=C1           2   \n",
      "81      comp93                                    C1=CC(F)=NC=C1           7   \n",
      "82      comp97                           N1=CC=C(C(F)(F)F)C=C1Cl           2   \n",
      "\n",
      "   yield  \n",
      "0     68  \n",
      "1     86  \n",
      "2     94  \n",
      "3     72  \n",
      "4     81  \n",
      "..   ...  \n",
      "78    73  \n",
      "79    45  \n",
      "80    15  \n",
      "81    10  \n",
      "82    72  \n",
      "\n",
      "[83 rows x 4 columns]\n"
     ]
    }
   ],
   "source": [
    "# --- 1. Bestanden inlezen als ruwe tekst ---\n",
    "yields_path = \"data/compounds_yield.csv\"\n",
    "smiles_path = \"data/compounds_smiles.csv\"\n",
    "\n",
    "# --- 2. Parser voor yields: hoogste percentage extraheren ---\n",
    "yield_data = []\n",
    "with open(yields_path, \"r\") as f:\n",
    "    for line in f:\n",
    "        line = line.strip()\n",
    "        if not line:\n",
    "            continue\n",
    "        parts = line.split(\" \", 1)\n",
    "        if len(parts) == 2:\n",
    "            compound_id, yield_info = parts\n",
    "            percentages = re.findall(r'(\\d+)%', yield_info)\n",
    "            if percentages:\n",
    "                max_yield = max(map(int, percentages))\n",
    "                yield_data.append((compound_id, str(max_yield)))\n",
    "\n",
    "df_yields_clean = pd.DataFrame(yield_data, columns=[\"compound_id\", \"yield\"])\n",
    "\n",
    "# --- 3. Parser voor SMILES ---\n",
    "smiles_data = []\n",
    "with open(smiles_path, \"r\") as f:\n",
    "    for line in f:\n",
    "        parts = [p.strip() for p in line.strip().split(\",\")]\n",
    "        if len(parts) == 4:\n",
    "            compound_id, smiles_raw, number, _ = parts  # ignore smiles_normalized\n",
    "            smiles_data.append((compound_id, smiles_raw, number))\n",
    "\n",
    "df_smiles_clean = pd.DataFrame(\n",
    "    smiles_data,\n",
    "    columns=[\"compound_id\", \"smiles_raw\", \"some_number\"]\n",
    ")\n",
    "\n",
    "# --- 4. Merge op compound_id ---\n",
    "df_merged = pd.merge(df_smiles_clean, df_yields_clean, on=\"compound_id\", how=\"inner\")\n",
    "\n",
    "print(\"Merged DataFrame:\")\n",
    "print(df_merged)\n"
   ]
  },
  {
   "cell_type": "markdown",
   "id": "7c0a2886",
   "metadata": {},
   "source": [
    "Convert the SMILES to Graphs"
   ]
  },
  {
   "cell_type": "code",
   "execution_count": 7,
   "id": "4be468d1",
   "metadata": {},
   "outputs": [],
   "source": [
    "\"This Class makes a graph out of SMILES and it gives a bond order to it\"\n",
    "\n",
    "ATOM_NUMBERS = {\n",
    "    \"H\": 1, \"C\": 6, \"N\": 7, \"O\": 8, \"Br\": 35, \"S\": 16\n",
    "}\n",
    "\n",
    "BOND_ORDER_MAP = {\n",
    "    Chem.rdchem.BondType.SINGLE: 1,\n",
    "    Chem.rdchem.BondType.DOUBLE: 2,\n",
    "    Chem.rdchem.BondType.TRIPLE: 3,\n",
    "    Chem.rdchem.BondType.AROMATIC: 1.5,\n",
    "}\n",
    "\n",
    "class MolecularGraphFromSMILES:\n",
    "    def __init__(self, smiles: str):\n",
    "        self.smiles = smiles\n",
    "        self.mol = Chem.MolFromSmiles(smiles)\n",
    "        #self.mol = Chem.AddHs(self.mol)\n",
    "        self.atoms = [atom.GetSymbol() for atom in self.mol.GetAtoms()]\n",
    "        self.bonds = [(bond.GetBeginAtomIdx(),\n",
    "                       bond.GetEndAtomIdx(),\n",
    "                       BOND_ORDER_MAP.get(bond.GetBondType(), 1))\n",
    "                      for bond in self.mol.GetBonds()]\n",
    "\n",
    "    def to_pyg_data(self) -> Data:\n",
    "        # Node features: atomic number\n",
    "        x = torch.tensor([[ATOM_NUMBERS[el]] for el in self.atoms], dtype=torch.long)\n",
    "\n",
    "        # Edge index and edge attributes\n",
    "        edge_index = []\n",
    "        edge_attr = []\n",
    "        for i, j, order in self.bonds:\n",
    "            edge_index.append([i, j])\n",
    "            edge_index.append([j, i])\n",
    "            edge_attr.append([order])\n",
    "            edge_attr.append([order])\n",
    "\n",
    "        edge_index = torch.tensor(edge_index, dtype=torch.long).t().contiguous()\n",
    "        edge_attr = torch.tensor(edge_attr, dtype=torch.float)\n",
    "\n",
    "        return Data(x=x, edge_index=edge_index, edge_attr=edge_attr)\n",
    "\n",
    "    def visualize(self, with_labels=True):\n",
    "        G = nx.Graph()\n",
    "        for i, el in enumerate(self.atoms):\n",
    "            G.add_node(i, label=el)\n",
    "\n",
    "        for i, j, order in self.bonds:\n",
    "            G.add_edge(i, j, label=str(order))\n",
    "\n",
    "        pos = nx.spring_layout(G)\n",
    "        nx.draw(G, pos, with_labels=with_labels,\n",
    "                labels=nx.get_node_attributes(G, 'label'),\n",
    "                node_color='lightgreen', node_size=700, font_size=10)\n",
    "\n",
    "        edge_labels = nx.get_edge_attributes(G, 'label')\n",
    "        nx.draw_networkx_edge_labels(G, pos, edge_labels=edge_labels)\n",
    "        plt.show()"
   ]
  },
  {
   "cell_type": "code",
   "execution_count": 11,
   "id": "2515b5c5",
   "metadata": {},
   "outputs": [
    {
     "data": {
      "image/png": "[encoded data removed]",
      "text/plain": [
       "<Figure size 640x480 with 1 Axes>"
      ]
     },
     "metadata": {},
     "output_type": "display_data"
    },
    {
     "name": "stdout",
     "output_type": "stream",
     "text": [
      "Data(x=[10, 1], edge_index=[2, 22], edge_attr=[22, 1])\n"
     ]
    }
   ],
   "source": [
    "# Create a molecule from a SMILES string\n",
    "smiles = \"c1c2ccccc2ccc1\"  \n",
    "mol_graph = MolecularGraphFromSMILES(smiles)\n",
    "\n",
    "# Visualize the molecule with bond orders\n",
    "mol_graph.visualize()\n",
    "\n",
    "# Convert to PyTorch Geometric format\n",
    "pyg_data = mol_graph.to_pyg_data()\n",
    "print(pyg_data)"
   ]
  },
  {
   "cell_type": "code",
   "execution_count": null,
   "id": "08f329e9",
   "metadata": {},
   "outputs": [],
   "source": []
  }
 ],
 "metadata": {
  "kernelspec": {
   "display_name": "Python (VSCode)",
   "language": "python",
   "name": "python-vscode"
  },
  "language_info": {
   "codemirror_mode": {
    "name": "ipython",
    "version": 3
   },
   "file_extension": ".py",
   "mimetype": "text/x-python",
   "name": "python",
   "nbconvert_exporter": "python",
   "pygments_lexer": "ipython3",
   "version": "3.12.10"
  }
 },
 "nbformat": 4,
 "nbformat_minor": 5
}
