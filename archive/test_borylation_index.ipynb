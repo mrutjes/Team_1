{
 "cells": [
  {
   "cell_type": "code",
   "execution_count": 1,
   "id": "77e5abf9",
   "metadata": {},
   "outputs": [
    {
     "name": "stdout",
     "output_type": "stream",
     "text": [
      "  compound_id                  smiles_raw  borylation_site     yield\n",
      "0       comp1      C1C2=C(N=C(O2)C)C=CC=1                0  0.330359\n",
      "1       comp2  C1C2=C(N=C(O2)C)C=C(Br)C=1               10  0.974688\n",
      "2       comp3      C1C2=C(N=C(N2)C)C=CC=1                1  1.261056\n",
      "3       comp4    C1(Cl)=CC=NC2NC(C)=CC1=2                9  0.473543\n",
      "4       comp5  C1C2=C(N=C(O2)C)C=C(OC)C=1                0  0.795707\n"
     ]
    }
   ],
   "source": [
    "from functions.data_loader import data_loader\n",
    "import pandas as pd\n",
    "\n",
    "df = data_loader(yields_path=\"data/compounds_yield.csv\", smiles_path=\"data/compounds_smiles.csv\")\n",
    "print(df.head(5))\n"
   ]
  },
  {
   "cell_type": "code",
   "execution_count": null,
   "id": "0537d722",
   "metadata": {},
   "outputs": [],
   "source": []
  },
  {
   "cell_type": "code",
   "execution_count": 2,
   "id": "64863878",
   "metadata": {},
   "outputs": [
    {
     "name": "stdout",
     "output_type": "stream",
     "text": [
      "Data(x=[11, 26], edge_index=[2, 24], edge_attr=[24, 3], y=[1], borylation_mask=[11])\n",
      "Node features: torch.Size([11, 26])\n",
      "Yield (y): 0.33035871386528015\n",
      "Borylation mask: tensor([0., 0., 0., 0., 0., 0., 0., 0., 0., 1., 0.])\n"
     ]
    }
   ],
   "source": [
    "from classes.smiles_to_graph import MolecularGraphFromSMILES\n",
    "\n",
    "# compound 1\n",
    "smiles = \"C1(Cl)=CC=NC2NC(C)=CC1=2\"\n",
    "graph = MolecularGraphFromSMILES(smiles)\n",
    "\n",
    "# genereer PyG data object\n",
    "data = graph.to_pyg_data()\n",
    "\n",
    "# print eigenschappen\n",
    "print(data)\n",
    "print(\"Node features:\", data.x.shape)\n",
    "print(\"Yield (y):\", data.y.item())\n",
    "print(\"Borylation mask:\", data.borylation_mask)\n"
   ]
  },
  {
   "cell_type": "code",
   "execution_count": null,
   "id": "94575c95",
   "metadata": {},
   "outputs": [],
   "source": []
  }
 ],
 "metadata": {
  "kernelspec": {
   "display_name": "sobo",
   "language": "python",
   "name": "python3"
  },
  "language_info": {
   "codemirror_mode": {
    "name": "ipython",
    "version": 3
   },
   "file_extension": ".py",
   "mimetype": "text/x-python",
   "name": "python",
   "nbconvert_exporter": "python",
   "pygments_lexer": "ipython3",
   "version": "3.9.21"
  }
 },
 "nbformat": 4,
 "nbformat_minor": 5
}
