{
 "cells": [
  {
   "cell_type": "code",
   "execution_count": 2,
   "id": "77e5abf9",
   "metadata": {},
   "outputs": [
    {
     "name": "stdout",
     "output_type": "stream",
     "text": [
      "count    83.000000\n",
      "mean     58.771084\n",
      "std      27.936044\n",
      "min       1.000000\n",
      "25%      45.000000\n",
      "50%      68.000000\n",
      "75%      79.000000\n",
      "max      99.000000\n",
      "Name: yield, dtype: float64\n",
      "  compound_id  yield\n",
      "0       comp1   68.0\n",
      "1       comp2   86.0\n",
      "2       comp3   94.0\n",
      "3       comp4   72.0\n",
      "4       comp5   81.0\n",
      "5       comp6   84.0\n",
      "6       comp7   71.0\n",
      "7       comp8   72.0\n",
      "8      comp11   72.0\n",
      "9      comp12   77.0\n",
      "Mean yield: 58.7710843373494, Std yield: 27.936044249715614\n",
      "  compound_id                  smiles_raw  borylation_site     yield\n",
      "0       comp1      C1C2=C(N=C(O2)C)C=CC=1                0  0.330359\n",
      "1       comp2  C1C2=C(N=C(O2)C)C=C(Br)C=1               10  0.974688\n",
      "2       comp3      C1C2=C(N=C(N2)C)C=CC=1                1  1.261056\n",
      "3       comp4    C1(Cl)=CC=NC2NC(C)=CC1=2                9  0.473543\n",
      "4       comp5  C1C2=C(N=C(O2)C)C=C(OC)C=1                0  0.795707\n"
     ]
    }
   ],
   "source": [
    "from functions.data_loader import data_loader\n",
    "import pandas as pd\n",
    "\n",
    "df, std, mean = data_loader(yields_path=\"data/compounds_yield.csv\", smiles_path=\"data/compounds_smiles.csv\")\n",
    "print(df.head(5))\n"
   ]
  },
  {
   "cell_type": "code",
   "execution_count": null,
   "id": "0537d722",
   "metadata": {},
   "outputs": [],
   "source": []
  },
  {
   "cell_type": "code",
   "execution_count": null,
   "id": "64863878",
   "metadata": {},
   "outputs": [
    {
     "name": "stdout",
     "output_type": "stream",
     "text": [
      "smiles_data list [('comp1', 'C1C2=C(N=C(O2)C)C=CC=1', '1'), ('comp2', 'C1C2=C(N=C(O2)C)C=C(Br)C=1', '11'), ('comp3', 'C1C2=C(N=C(N2)C)C=CC=1', '2'), ('comp4', 'C1(Cl)=CC=NC2NC(C)=CC1=2', '10'), ('comp5', 'C1C2=C(N=C(O2)C)C=C(OC)C=1', '1'), ('comp6', 'C1C2=C(N=C(O2)C)C(C)=CC=1', '1'), ('comp7', 'C1C2=C(N=C(O2)C2C=CC(C)=CC=2)C=CC=1', '1'), ('comp8', 'C1C2=C(N=C(O2)C2C=CC(OC)=CC=2)C=CC=1', '1'), ('comp11', 'C1(=CC=CC2N=C(C)NC1=2)C', '3'), ('comp12', 'C1C2=C(N=C(N2)C)C=CC=1F', '4'), ('comp13', 'C1=NC=NC=C1', '6'), ('comp14', 'C1C=CN=C(C)N=1', '2'), ('comp15', 'C1C=CN=C(C#N)N=1', '2'), ('comp16', 'N1C=CC=N1', '4'), ('comp17', 'N1C=CC(C)=N1', '3'), ('comp18', 'N1C(C)=CC(C)=N1', '4'), ('comp19', 'N1C=CC(C(F)(F)F)=N1', '2'), ('comp20', 'C1=CC=NC2NC=CC1=2', '8'), ('comp21', 'C1=C(Br)C=NC2NC=CC1=2', '9'), ('comp22', 'C1=CN=CC2NC=CC1=2', '8'), ('comp23', 'C1=CC=NC2NC=C(C1=2)CC', '2'), ('comp24', 'C1(Cl)=CC=NC2NC(C)=CC1=2', '3'), ('comp25', 'C1=CC=NC2N(C(=O)OC(C)(C)C)C=CC1=2', '15'), ('comp26', 'C1(NC(C)(C)C)N=CC(C2C=NN(C=2)C2CCN(C(OC(C)(C)C)=O)CC2)=CC=1C1=NC2C=CC=CC=2O1', '36'), ('comp27', 'C1(Cl)=CC=CC=C1Cl', '4'), ('comp28', 'C1=C(C(F)(F)F)C=CC=C1Br', '8'), ('comp29', 'C1=C(Cl)C=CC(Cl)=C1', '4'), ('comp30', 'C1(C)=CC=CC=C1', '4'), ('comp31', 'C1(C(=O)C)=C(OC)C=CC=C1', '9'), ('comp32', 'C1(C(=O)C)=C(OC)C=CC=C1', '10'), ('comp33', 'C1(C(=O)OC)=CC=C(C#N)C=C1', '11'), ('comp34', 'C1=C2OCOC2=CC=C1', '1'), ('comp35', 'C1=C2OCOC2=CC=C1', '9'), ('comp36', 'C1(N)=CC=C(Cl)C=C1', '8'), ('comp37', 'C1=CC=CC=C1C1=NC=CC=C1', '10'), ('comp38', 'C1=CC=CC=C1C1=NC=CC=C1', '11'), ('comp39', 'N1C=CC=C1', '2'), ('comp40', 'C1SC=CC=1', '3'), ('comp41', 'C1OC=CC=1', '3'), ('comp42', 'C1NC(C)=CC=1', '1'), ('comp43', 'C1SC(C)=CC=1', '1'), ('comp44', 'C1OC(C)=CC=1', '1'), ('comp45', 'C1OC=CC=1C(=O)OC', '3'), ('comp46', 'C1(C)OC=CC=1C(=O)OC', '4'), ('comp47', 'C1(=CC=C(C#N)N1C)C', '3'), ('comp48', 'C1(=CC=C(C#N)N1C)C', '2'), ('comp49', 'C1SC=CC=1C#N', '3'), ('comp50', 'C1SC=CC=1C#N', '1'), ('comp51', 'C1SC=CC=1Cl', '3'), ('comp52', 'C1SC=CC=1Cl', '1'), ('comp53', 'C1SC=CC=1C1=CC=C(C)C=C1', '3'), ('comp54', 'C1SC=CC=1C1=CC=C(C)C=C1', '1'), ('comp55', 'C1(Br)SC(Br)=CC=1', '7'), ('comp56', 'C1(C)SC(C)=CC=1', '2'), ('comp57', 'C1(=CC=C(Br)S1)Cl', '2'), ('comp58', 'C1(=CC=C(Br)S1)Cl', '3'), ('comp59', 'C1(=CC=C(C)S1)Cl', '2'), ('comp60', 'C1(=CC=C(C)S1)Cl', '3'), ('comp61', 'C1(=CC=C(I)S1)Cl', '2'), ('comp62', 'C1(=CC=C(I)S1)Cl', '3'), ('comp63', 'C1=CC=CN1C', '4'), ('comp64', 'C1=CC=CN1C', '3'), ('comp65', 'C1=CC=CN1O[Si](C)(C)C', '4'), ('comp66', 'C1=CC=CN1O[Si](C)(C)C', '3'), ('comp67', 'C1=CC=CN1C(=O)OC(C)(C)C', '3'), ('comp68', 'S1C=CC=C1C1SCCCS1', '4'), ('comp69', 'S1C=CC(C#N)=C1', '2'), ('comp70', 'S1C=CC(C#N)=C1', '7'), ('comp71', 'C1C=CC=C2NC=CC=12', '7'), ('comp72', 'C1C=CC=C2NC=CC=12', '8'), ('comp73', 'C1C=CC=C2SC=CC=12', '7'), ('comp74', 'C1C=CC=C2SC=CC=12', '8'), ('comp75', 'C1C=CC=C2OC=CC=12', '7'), ('comp76', 'C1C=CC=C2OC=CC=12', '8'), ('comp77', 'C1C=CC=C2NC(C3=CC=CC=C3)=CC=12', '4'), ('comp79', 'C1C=CC=C2OC(B3OC(C)(C)C(C)(C)O3)=CC=12', '4'), ('comp80', 'C1C=CC=C2OC(B3OC(C)(C)C(C)(C)O3)=CC=12', '3'), ('comp81', 'C1C=CC=C2N(O[Si](C)(C)C)C=C(C)C=12', '3'), ('comp82', 'C1C=CC=C2N(O[Si](C)(C)C)C=C(C)C=12', '2'), ('comp83', 'C1C=CC=C2N(O[Si](C)(C)C)C3C=CC(CC)=CC=3C=12', '3'), ('comp84', 'C1C=CC=C2N(O[Si](C)(C)C)C3C=CC(CC)=CC=3C=12', '2'), ('comp85', 'C1C=CC=C2SC(C3SCCCS3)=CC=12', '14'), ('comp86', 'N1(C(=O)OC(C)C)C2C=CC=CC=2C2C=CC=CC1=2', '9'), ('comp87', 'C1C=CC=C2SC=C([Si]([H])(C)C)C=12', '1'), ('comp88', 'C1C=CC=C2N(C(=O)OC(C)(C)C)C=C([Si]([H])(C)C)C=12', '1'), ('comp89', 'C1=CC=NC=C1', '6'), ('comp90', 'C1=CC=NC=C1', '1'), ('comp91', 'C1=CC(F)=NC=C1', '1'), ('comp92', 'C1=CC(F)=NC=C1', '2'), ('comp93', 'C1=CC(F)=NC=C1', '7'), ('comp94', 'C1=C(Cl)C(Cl)=NC=C1', '8'), ('comp95', 'C1=C(C(=O)OC)C(F)=NC=C1', '11'), ('comp96', 'C1=C(C(=O)OC)C(F)=NC=C1', '3'), ('comp97', 'N1=CC=C(C(F)(F)F)C=C1Cl', '2'), ('comp98', 'N1=CC=C(C)C=C1C', '3'), ('comp99', 'N1=CC=C(C)C=C1C', '2'), ('comp100', 'N1=CC(Br)=CC=C1C#N', '6'), ('comp101', 'N1=CC(Br)=CC=C1C#N', '5'), ('comp102', 'C1=CC=CC=C1C', '4'), ('comp103', 'C1=CC=CC=C1C', '3'), ('comp104', 'C1(C)NC(C#N)=CC=1', '7'), ('comp105', 'C1(C)NC(C#N)=CC=1', '8'), ('comp106', 'C1SC=CC=1C#N', '3'), ('comp107', 'C1SC=CC=1C#N', '1'), ('comp108', 'C1SC=CC=1Cl', '3'), ('comp109', 'C1SC=CC=1Cl', '1'), ('comp110', 'C1=C(C2=CC=C(C)C=C2)C=CS1', '11'), ('comp111', 'C1=C(C2=CC=C(C)C=C2)C=CS1', '1'), ('comp112', 'C1(=CC=C(Br)S1)Cl', '2'), ('comp113', 'C1(=CC=C(Br)S1)Cl', '3'), ('comp114', 'C1(=CC=C(C)S1)Cl', '2'), ('comp115', 'C1(=CC=C(C)S1)Cl', '3'), ('comp116', 'C1(=CC=C(I)S1)Cl', '2'), ('comp117', 'C1(=CC=C(I)S1)Cl', '3'), ('comp118', 'C1=CC=CN1C', '4'), ('comp119', 'C1=CC=CN1C', '3'), ('comp120', 'C1=CC=CN1O[Si](C)(C)C', '4'), ('comp121', 'C1=CC=CN1O[Si](C)(C)C', '3'), ('comp122', 'S1C(Cl)=CC=C1C(=O)CC', '5'), ('comp123', 'S1C(Cl)=CC=C1C(=O)CC', '4'), ('comp124', 'S1C(Cl)=CC=C1C(=O)CC', '5'), ('comp125', 'S1C(Cl)=CC=C1C(=O)CC', '4'), ('comp126', 'O1C(C)=CC=C1C(=O)C', '5'), ('comp127', 'O1C(C)=CC=C1C(=O)C', '4'), ('comp128', 'O1C(C)=CC=C1C(=O)C', '5'), ('comp129', 'O1C(C)=CC=C1C(=O)C', '4'), ('comp130', 'N1(C)C=CC=C1C(=O)N(CCCCCC)CCCCCC', '4'), ('comp131', 'N1(C)C=CC=C1C(=O)N(CCCCCC)CCCCCC', '3'), ('comp132', 'S1C=CC(C#N)=C1', '2'), ('comp133', 'S1C=CC(C#N)=C1', '7'), ('comp134', 'C1C=CC=C2NC=CC=12', '7'), ('comp135', 'C1C=CC=C2NC=CC=12', '8'), ('comp136', 'C1C=CC=C2SC=CC=12', '7'), ('comp137', 'C1C=CC=C2SC=CC=12', '8'), ('comp138', 'C1C=CC=C2OC=CC=12', '7'), ('comp139', 'C1C=CC=C2OC=CC=12', '8'), ('comp140', 'C1C=CC=C2N(C)C=CC=12', '8'), ('comp141', 'C1C=CC=C2N(C)C=CC=12', '9'), ('comp142', 'C1C=CC=C2N(O[Si](C)(C)C)C=C(C)C=12', '3'), ('comp143', 'C1C=CC=C2N(O[Si](C)(C)C)C=C(C)C=12', '2'), ('comp144', 'C1C=CC=C2N(O[Si](C)(C)C)C3C=CC(CC)=CC=3C=12', '3'), ('comp145', 'C1C=CC=C2N(O[Si](C)(C)C)C3C=CC(CC)=CC=3C=12', '2'), ('comp146', 'C1=CC(F)=NC=C1', '1'), ('comp147', 'C1=CC(F)=NC=C1', '2'), ('comp148', 'C1=CC(F)=NC=C1', '7'), ('comp149', 'N1=CC=C(C(F)(F)F)C=C1Cl', '2'), ('comp150', 'C1=CC(C(=O)N(CC)CC)=NC=C1', '1'), ('comp151', 'C1=CC(C(=O)N(CC)CC)=NC=C1', '13'), ('comp152', 'C1C=C(C)C=C2N=C(C)C=CC=12', '11'), ('comp153', 'C1C=C(C)C=C2N=C(C)C=CC=12', '1'), ('comp154', 'C1C=C(C(F)(F)F)C=C2N=C(C)C=CC=12', '14'), ('comp155', 'C1C=C(C(F)(F)F)C=C2N=C(C)C=CC=12', '1'), ('comp156', 'C12N=C(C)SC1=CC=CC=2', '7'), ('comp157', 'C12N=C(C)SC1=CC=CC=2', '8'), ('comp158', 'C12N=C(C)SC1=CC=CC=2', '9'), ('comp159', 'C1=NC(Cl)=C(C)N=C1', '1'), ('comp160', 'C1=NC(Cl)=C(C)N=C1', '8'), ('comp161', 'C1C=CC=C2C=CB(C3=CC=C(C(F)(F)F)C=C3)N(C)C=12', '2'), ('comp162', 'C1C=CC=C2C=CB(C3=CC=C(C(F)(F)F)C=C3)N(C)C=12', '3'), ('comp163', 'C1=CC(F)=CC(Cl)=C1', '1'), ('comp164', 'C1=CC(F)=CC(Cl)=C1', '2'), ('comp165', 'C1=CC(F)=CC(Br)=C1', '1'), ('comp166', 'C1=CC(F)=CC(Br)=C1', '2'), ('comp167', 'C1=CC(F)=CC(I)=C1', '1'), ('comp168', 'C1=CC(F)=CC(I)=C1', '2'), ('comp169', 'C1=CC(F)=NC(=C1)Cl', '1'), ('comp170', 'C1=CC(F)=NC(=C1)Cl', '2'), ('comp171', 'C1=CC(C#N)=CC(C#N)=C1', '1'), ('comp172', 'C1=CC(C#N)=CC(C#N)=C1', '2'), ('comp173', 'C1=CC(F)=CC=C1Cl', '2'), ('comp174', 'C1=CC(F)=CC=C1Cl', '1'), ('comp175', 'C1=CC(C#N)=CC=C1Cl', '2'), ('comp176', 'C1=CC(C#N)=CC=C1Cl', '1'), ('comp177', 'C1=CC(C#N)=NC=C1Br', '2'), ('comp178', 'C1=CC(C#N)=NC=C1Br', '1'), ('comp179', 'C1=C(F)C(Cl)=NC=C1', '8'), ('comp180', 'C1=C(F)C(Cl)=NC=C1', '1'), ('comp181', 'O1C(C#N)=CC=C1C', '5'), ('comp182', 'O1C(C#N)=CC=C1C', '6'), ('comp183', 'S1C(C#N)=CC=C1Br', '5'), ('comp184', 'S1C(C#N)=CC=C1Br', '6'), ('comp185', 'N1(C)C(C#N)=CC=C1C', '6'), ('comp186', 'N1(C)C(C#N)=CC=C1C', '7'), ('comp187', 'S1C(C#N)=CC=C1C', '5'), ('comp188', 'S1C(C#N)=CC=C1C', '6'), ('comp189', 'S1C=CC(C#N)=C1', '2'), ('comp190', 'S1C=CC(C#N)=C1', '7'), ('comp191', 'S1C=CC(Cl)=C1', '2'), ('comp192', 'S1C=CC(Cl)=C1', '6'), ('comp193', 'N1(C)N=CC=C1', '5'), ('comp194', 'N1(C)N=CC=C1', '6'), ('comp195', 'C1C=CC=C2C=COC=12', '6'), ('comp196', 'C1C=CC=C2C=COC=12', '7')]\n",
      "SMILES C1(F)=CC=NC2NC(C)=CC1=2 not found in the dataset.\n",
      "Data(x=[11, 26], edge_index=[2, 24], edge_attr=[24, 3], y=[1], borylation_mask=[11])\n",
      "Node features: torch.Size([11, 26])\n",
      "Yield (y): 0.0\n",
      "Borylation mask: tensor([0., 0., 0., 0., 0., 0., 0., 0., 0., 0., 0.])\n"
     ]
    }
   ],
   "source": [
    "from classes.smiles_to_graph import MolecularGraphFromSMILES\n",
    "\n",
    "# compound 1\n",
    "smiles = \"C1(F)=CC=NC2NC(C)=CC1=2\"\n",
    "graph = MolecularGraphFromSMILES(smiles)\n",
    "\n",
    "# genereer PyG data object\n",
    "data = graph.to_pyg_data()\n",
    "\n",
    "# print eigenschappen\n",
    "print(data)\n",
    "print(\"Node features:\", data.x.shape)\n",
    "print(\"Yield (y):\", data.y.item())\n",
    "print(\"Borylation mask:\", data.borylation_mask)\n"
   ]
  },
  {
   "cell_type": "code",
   "execution_count": null,
   "id": "94575c95",
   "metadata": {},
   "outputs": [],
   "source": []
  }
 ],
 "metadata": {
  "kernelspec": {
   "display_name": "sobo",
   "language": "python",
   "name": "python3"
  },
  "language_info": {
   "codemirror_mode": {
    "name": "ipython",
    "version": 3
   },
   "file_extension": ".py",
   "mimetype": "text/x-python",
   "name": "python",
   "nbconvert_exporter": "python",
   "pygments_lexer": "ipython3",
   "version": "3.9.21"
  }
 },
 "nbformat": 4,
 "nbformat_minor": 5
}
