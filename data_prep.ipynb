{
 "cells": [
  {
   "cell_type": "code",
   "execution_count": null,
   "id": "59df304c",
   "metadata": {},
   "outputs": [],
   "source": [
    "import pandas as pd\n",
    "import numpy as np\n",
    "import os\n",
    "import sys\n",
    "\n",
    "#Deze staan ook in rdkithelperdinges\n",
    "# noinspection PyPackageRequirements\n",
    "import rdkit\n",
    "\n",
    "# noinspection PyPackageRequirements\n",
    "import rdkit.Chem.AllChem\n",
    "\n",
    "# noinspection PyPackageRequirements\n",
    "import rdkit.Chem.Draw\n",
    "\n",
    "# noinspection PyPackageRequirements\n",
    "import rdkit.Chem.rdmolfiles\n",
    "\n"
   ]
  },
  {
   "cell_type": "markdown",
   "id": "05323d4e",
   "metadata": {},
   "source": [
    "# Load the data and couple the SMILES to the yields and remove nan's"
   ]
  },
  {
   "cell_type": "code",
   "execution_count": null,
   "id": "ddc67cb3",
   "metadata": {},
   "outputs": [],
   "source": [
    "db_dir_smiles = \"data/compounds_smiles.csv\"\n",
    "db_dir_yields = \"data/compounds_yield.csv\"\n",
    "\n",
    "db_smiles = pd.read_csv(db_dir_smiles)\n",
    "db_yields = pd.read_csv(db_dir_yields)\n",
    "\n",
    "\n"
   ]
  },
  {
   "cell_type": "markdown",
   "id": "2a183232",
   "metadata": {},
   "source": [
    "Convert the SMILES to Graphs"
   ]
  },
  {
   "cell_type": "markdown",
   "id": "402cb655",
   "metadata": {},
   "source": []
  }
 ],
 "metadata": {
  "kernelspec": {
   "display_name": "sobo",
   "language": "python",
   "name": "python3"
  },
  "language_info": {
   "codemirror_mode": {
    "name": "ipython",
    "version": 3
   },
   "file_extension": ".py",
   "mimetype": "text/x-python",
   "name": "python",
   "nbconvert_exporter": "python",
   "pygments_lexer": "ipython3",
   "version": "3.9.21"
  }
 },
 "nbformat": 4,
 "nbformat_minor": 5
}
