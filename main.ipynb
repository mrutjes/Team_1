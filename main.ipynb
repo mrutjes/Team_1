{
 "cells": [
  {
   "cell_type": "code",
   "execution_count": null,
   "id": "a2bbecfe",
   "metadata": {},
   "outputs": [],
   "source": [
    "import os\n",
    "import sys\n",
    "import re\n",
    "import math\n",
    "from collections import defaultdict\n",
    "\n",
    "import pandas as pd\n",
    "import numpy as np\n",
    "from tqdm import tqdm\n",
    "\n",
    "import torch\n",
    "from torch_geometric.data import Data, DataLoader\n",
    "from sklearn.model_selection import train_test_split\n",
    "\n",
    "import networkx as nx\n",
    "import matplotlib.pyplot as plt\n",
    "\n",
    "from rdkit import Chem\n",
    "from rdkit.Chem import AllChem, Draw\n",
    "from rdkit.Chem.rdmolfiles import MolFromXYZFile\n",
    "from functions.data_loader import data_loader\n",
    "from classes.smiles_to_graph import MolecularGraphFromSMILES\n",
    "from classes.MPNN import MPNN\n",
    "from functions.compute_loss import compute_loss\n",
    "from functions.evaluations import *\n",
    "from functions.evaluations import evaluate_model\n",
    "from functions.train import train_MPNN_model"
   ]
  },
  {
   "cell_type": "markdown",
   "id": "693d4957",
   "metadata": {},
   "source": [
    "# Load the data and couple the SMILES to the yields and remove nan's"
   ]
  },
  {
   "cell_type": "code",
   "execution_count": null,
   "id": "8493a5ac",
   "metadata": {},
   "outputs": [],
   "source": [
    "yields_path = \"data/compounds_yield.csv\"\n",
    "smiles_path = \"data/compounds_smiles.csv\"\n",
    "\n",
    "df_merged, yield_min, yield_max = data_loader(yields_path, smiles_path)"
   ]
  },
  {
   "cell_type": "markdown",
   "id": "61a42181",
   "metadata": {},
   "source": [
    "## Convert the SMILES strings to molecular Graphs"
   ]
  },
  {
   "cell_type": "code",
   "execution_count": null,
   "id": "a6787c29",
   "metadata": {},
   "outputs": [],
   "source": [
    "graphs = []\n",
    "for _, row in tqdm(df_merged.iterrows(), total=len(df_merged), desc=\"Converting SMILES to graphs\"):\n",
    "    try:\n",
    "        mol_graph = MolecularGraphFromSMILES(row['smiles_raw'])\n",
    "\n",
    "        borylation_index = row['borylation_site']\n",
    "\n",
    "        graph = mol_graph.to_pyg_data()\n",
    "        graphs.append(graph)\n",
    "\n",
    "    except Exception as e:\n",
    "        print(f\"Fout bij SMILES: {row['smiles_raw']}\")\n",
    "        print(f\"  - borylation_site: {row['borylation_site']}\")\n",
    "        mol = Chem.MolFromSmiles(row['smiles_raw'])\n",
    "        if mol:\n",
    "            print(f\"  - aantal atomen in RDKit mol: {mol.GetNumAtoms()}\")\n",
    "        else:\n",
    "            print(\"  - RDKit kon mol niet parsen!\")\n",
    "        print(f\"  - foutmelding: {e}\")\n",
    "\n"
   ]
  },
  {
   "cell_type": "markdown",
   "id": "5f1db8fb",
   "metadata": {},
   "source": [
    "## Split the data into Train Test and Val, 70/15/15"
   ]
  },
  {
   "cell_type": "code",
   "execution_count": null,
   "id": "70cc9b6d",
   "metadata": {},
   "outputs": [],
   "source": [
    "train_val_graphs, test_graphs = train_test_split(\n",
    "    graphs, test_size=0.15, random_state=42\n",
    ")\n",
    "\n",
    "train_graphs, val_graphs = train_test_split(\n",
    "    train_val_graphs, test_size=0.1765, random_state=42\n",
    ")"
   ]
  },
  {
   "cell_type": "markdown",
   "id": "21fb7e5a",
   "metadata": {},
   "source": [
    "## Put the Graphs in a dataloader and initiate the MPNN model architecture"
   ]
  },
  {
   "cell_type": "code",
   "execution_count": null,
   "id": "1bb73ee9",
   "metadata": {},
   "outputs": [],
   "source": [
    "# Settings\n",
    "batch_size = 16\n",
    "num_epochs = 5\n",
    "learning_rate = 0.001\n",
    "device = torch.device(\"cuda\" if torch.cuda.is_available() else \"cpu\")\n",
    "\n",
    "# Architecture MPNN\n",
    "node_in_feats=train_graphs[0].x.shape[1]                # Input features per node\n",
    "edge_in_feats=train_graphs[0].edge_attr.shape[1]        # Input features per edge\n",
    "hidden_feats=256                                         # Hidden features\n",
    "num_step_message_passing=3                              # Steps voor message passing\n",
    "readout_feats=512                                      # Readout features\n",
    "activation='leaky_relu'                                 #  Activation function\n",
    "dropout=0.2                                            # Dropout percentage\n",
    "\n",
    "# DataLoaders\n",
    "train_loader = DataLoader(train_graphs, batch_size=batch_size, shuffle=True)\n",
    "val_loader = DataLoader(val_graphs, batch_size=batch_size, shuffle=False)\n",
    "test_loader = DataLoader(test_graphs, batch_size=batch_size, shuffle=False)\n",
    "\n",
    "# Initiate model\n",
    "model = MPNN(\n",
    "    node_in_feats=node_in_feats,\n",
    "    edge_in_feats=edge_in_feats,\n",
    "    hidden_feats=hidden_feats,\n",
    "    num_step_message_passing=num_step_message_passing,\n",
    "    readout_feats=readout_feats,\n",
    "    activation=activation,\n",
    "    dropout=dropout\n",
    ")\n",
    "\n",
    "optimizer = torch.optim.Adam(model.parameters(), lr=learning_rate)\n",
    "\n",
    "# Training loop with validation\n",
    "\n",
    "train_total_loss_list = []\n",
    "train_site_loss_list = []\n",
    "train_yield_loss_list = []\n",
    "\n",
    "val_r2_list = []\n",
    "val_auc_list = []"
   ]
  },
  {
   "cell_type": "markdown",
   "id": "ab418b7f",
   "metadata": {},
   "source": [
    "## Make the training loop"
   ]
  },
  {
   "cell_type": "code",
   "execution_count": null,
   "id": "dcc77704",
   "metadata": {},
   "outputs": [],
   "source": [
    "for epoch in range(num_epochs):\n",
    "    train_losses = train_MPNN_model(model, train_loader, optimizer, device)\n",
    "    val_metrics, val_y_true, val_y_pred = evaluate_model(model, val_loader, device, yield_min=yield_min, yield_max=yield_max)\n",
    "\n",
    "    print(f\"[Epoch {epoch+1}] Train loss: {train_losses['total']:.4f} | \"\n",
    "        f\"Site: {train_losses['site']:.4f}, \"\n",
    "        f\"Yield: {train_losses['yield']:.4f}\")\n",
    "    train_total_loss_list.append(train_losses['total'])\n",
    "    train_site_loss_list.append(train_losses['site'])\n",
    "    train_yield_loss_list.append(train_losses['yield'])\n",
    "\n",
    "    val_r2_list.append(float(val_metrics['yield_R2']))\n",
    "    val_auc_list.append(val_metrics['site_AUC'])\n",
    "\n",
    "# Evaluate on testset after training\n",
    "test_metrics, y_true, y_pred = evaluate_model(model, test_loader, device, yield_min=yield_min, yield_max=yield_max)\n",
    "\n"
   ]
  },
  {
   "cell_type": "markdown",
   "id": "2697d680",
   "metadata": {},
   "source": [
    "## The loss plot against the amount of epochs"
   ]
  },
  {
   "cell_type": "code",
   "execution_count": null,
   "id": "767ed8db",
   "metadata": {},
   "outputs": [],
   "source": [
    "epochs = list(range(1, num_epochs + 1))\n",
    "\n",
    "plt.figure(figsize=(10, 4))\n",
    "\n",
    "# Loss plot\n",
    "plt.subplot(1, 2, 1)\n",
    "plt.plot(epochs, train_total_loss_list, label=\"Total loss\")\n",
    "plt.plot(epochs, train_site_loss_list, label=\"Site loss\")\n",
    "plt.plot(epochs, train_yield_loss_list, label=\"Yield loss\")\n",
    "plt.xlabel(\"Epoch\")\n",
    "plt.ylabel(\"Loss\")\n",
    "plt.title(\"Train loss per component\")\n",
    "plt.legend()\n",
    "\n",
    "# Validation metrics\n",
    "plt.subplot(1, 2, 2)\n",
    "plt.plot(epochs, val_r2_list, label=\"Validation R² (yield)\")\n",
    "plt.plot(epochs, val_auc_list, label=\"Validation AUC (site)\")\n",
    "plt.xlabel(\"Epoch\")\n",
    "plt.ylabel(\"Score\")\n",
    "plt.title(\"Validation metrics\")\n",
    "plt.legend()\n",
    "\n",
    "plt.tight_layout()\n",
    "plt.show()"
   ]
  },
  {
   "cell_type": "markdown",
   "id": "7578e735",
   "metadata": {},
   "source": [
    "## Further evaluation measurements"
   ]
  },
  {
   "cell_type": "code",
   "execution_count": null,
   "id": "83578342",
   "metadata": {},
   "outputs": [],
   "source": [
    "# Calculate Top-k accuracies (k=1 en k=3)\n",
    "all_site_logits = []\n",
    "all_site_masks = []\n",
    "all_batches = []\n",
    "\n",
    "with torch.no_grad():\n",
    "    for batch in test_loader:\n",
    "        batch = batch.to(device)\n",
    "        p_borylation, _ = model(batch.x, batch.edge_index, batch.edge_attr, batch.batch)\n",
    "\n",
    "        all_site_logits.append(torch.sigmoid(p_borylation))  # sigmoid omdat topk op probs werkt\n",
    "        all_site_masks.append(batch.borylation_mask)\n",
    "        all_batches.append(batch.batch)\n",
    "\n",
    "p_borylation = torch.cat(all_site_logits)\n",
    "borylation_mask = torch.cat(all_site_masks)\n",
    "batch_tensor = torch.cat(all_batches)\n",
    "\n",
    "acc_top1 = topk_accuracy_softmax(p_borylation, borylation_mask, batch_tensor, k=1)\n",
    "acc_top3 = topk_accuracy_softmax(p_borylation, borylation_mask, batch_tensor, k=3)\n",
    "\n",
    "print(\" Test results:\")\n",
    "print(f\"\\n Borylation site prediction:\")\n",
    "print(f\"   - Accuracy      : {test_metrics['site_Accuracy']:.3f}\")\n",
    "print(f\"   - Precision     : {test_metrics['site_Precision']:.3f}\")\n",
    "print(f\"   - ROC AUC       : {test_metrics['site_AUC']:.3f}\")\n",
    "print(f\"   - Top-1 Accuracy: {acc_top1:.3f}\")\n",
    "print(f\"   - Top-3 Accuracy: {acc_top3:.3f}\")\n",
    "\n",
    "print(f\"\\n Yield prediction:\")\n",
    "print(f\"   - MSE           : {test_metrics['yield_MSE']:.3f}\")\n",
    "print(f\"   - MAE           : {test_metrics['yield_MAE']:.3f}\")\n",
    "print(f\"   - R²            : {test_metrics['yield_R2']:.3f}\")\n",
    "\n",
    "print(\"Mean predicted yield:\", y_pred.mean())\n",
    "print(\"Mean ground truth yield:\", y_true.mean())"
   ]
  },
  {
   "cell_type": "code",
   "execution_count": null,
   "id": "5a1e2a99",
   "metadata": {},
   "outputs": [],
   "source": [
    "plt.hist(y_true, alpha=0.5, label=\"True yield\")\n",
    "plt.hist(y_pred, alpha=0.5, label=\"Predicted yield\")\n",
    "plt.legend()\n",
    "plt.title(\"Distrubution of ground truth and predicted yields\")\n",
    "plt.xlabel(\"Yield\")\n",
    "plt.ylabel(\"Frequency\")\n",
    "plt.show()\n"
   ]
  }
 ],
 "metadata": {
  "kernelspec": {
   "display_name": "sobo",
   "language": "python",
   "name": "python3"
  },
  "language_info": {
   "codemirror_mode": {
    "name": "ipython",
    "version": 3
   },
   "file_extension": ".py",
   "mimetype": "text/x-python",
   "name": "python",
   "nbconvert_exporter": "python",
   "pygments_lexer": "ipython3",
   "version": "3.9.21"
  }
 },
 "nbformat": 4,
 "nbformat_minor": 5
}
