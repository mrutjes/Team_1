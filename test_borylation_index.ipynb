{
 "cells": [
  {
   "cell_type": "code",
   "execution_count": 1,
   "id": "77e5abf9",
   "metadata": {},
   "outputs": [
    {
     "name": "stdout",
     "output_type": "stream",
     "text": [
      "  compound_id                  smiles_raw  borylation_site  yield\n",
      "0       comp1      C1C2=C(N=C(O2)C)C=CC=1                0   68.0\n",
      "1       comp2  C1C2=C(N=C(O2)C)C=C(Br)C=1               10   86.0\n",
      "2       comp3      C1C2=C(N=C(N2)C)C=CC=1                1   94.0\n",
      "3       comp4    C1(Cl)=CC=NC2NC(C)=CC1=2                9   72.0\n",
      "4       comp5  C1C2=C(N=C(O2)C)C=C(OC)C=1                0   81.0\n"
     ]
    }
   ],
   "source": [
    "from functions.data_loader import data_loader\n",
    "import pandas as pd\n",
    "\n",
    "df = data_loader(yields_path=\"data/compounds_yield.csv\", smiles_path=\"data/compounds_smiles.csv\")\n",
    "print(df.head(5))\n"
   ]
  },
  {
   "cell_type": "code",
   "execution_count": 2,
   "id": "64863878",
   "metadata": {},
   "outputs": [
    {
     "name": "stdout",
     "output_type": "stream",
     "text": [
      "SMILES index: 0\n",
      "Mapping: {0: 0, 1: 1, 2: 2, 3: 3, 4: 4, 6: 5, 5: 6, 7: 7, 8: 8, 9: 9}\n",
      "Graph index: 0\n",
      "Data(x=[10, 17], edge_index=[2, 22], edge_attr=[22, 3], y=[1], borylation_mask=[10])\n",
      "Node features: torch.Size([10, 17])\n",
      "Yield (y): 68.0\n",
      "Borylation mask: tensor([1., 0., 0., 0., 0., 0., 0., 0., 0., 0.])\n"
     ]
    }
   ],
   "source": [
    "from classes.smiles_to_graph import MolecularGraphFromSMILES\n",
    "\n",
    "# compound 1\n",
    "smiles = \"C1C2=C(N=C(O2)C)C=CC=1\"\n",
    "graph = MolecularGraphFromSMILES(smiles)\n",
    "\n",
    "# genereer PyG data object\n",
    "data = graph.to_pyg_data()\n",
    "\n",
    "# print eigenschappen\n",
    "print(data)\n",
    "print(\"Node features:\", data.x.shape)\n",
    "print(\"Yield (y):\", data.y.item())\n",
    "print(\"Borylation mask:\", data.borylation_mask)\n"
   ]
  },
  {
   "cell_type": "code",
   "execution_count": null,
   "id": "94575c95",
   "metadata": {},
   "outputs": [],
   "source": []
  }
 ],
 "metadata": {
  "kernelspec": {
   "display_name": "sobo",
   "language": "python",
   "name": "python3"
  },
  "language_info": {
   "codemirror_mode": {
    "name": "ipython",
    "version": 3
   },
   "file_extension": ".py",
   "mimetype": "text/x-python",
   "name": "python",
   "nbconvert_exporter": "python",
   "pygments_lexer": "ipython3",
   "version": "3.9.21"
  }
 },
 "nbformat": 4,
 "nbformat_minor": 5
}
