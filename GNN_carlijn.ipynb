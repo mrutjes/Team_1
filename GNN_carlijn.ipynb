{
 "cells": [
  {
   "cell_type": "code",
   "execution_count": 1,
   "id": "981722b7",
   "metadata": {},
   "outputs": [],
   "source": [
    "import os\n",
    "import sys\n",
    "import re\n",
    "import math\n",
    "from collections import defaultdict\n",
    "\n",
    "import pandas as pd\n",
    "import numpy as np\n",
    "from tqdm import tqdm\n",
    "\n",
    "import torch\n",
    "from torch_geometric.data import Data, DataLoader\n",
    "from sklearn.model_selection import train_test_split\n",
    "\n",
    "import networkx as nx\n",
    "import matplotlib.pyplot as plt\n",
    "\n",
    "from rdkit import Chem\n",
    "from rdkit.Chem import AllChem, Draw\n",
    "from rdkit.Chem.rdmolfiles import MolFromXYZFile\n",
    "from functions.data_loader import data_loader\n",
    "from classes.smiles_to_graph import MolecularGraphFromSMILES\n",
    "from classes.MPNN import MPNN\n",
    "from functions.compute_loss import compute_loss\n",
    "from functions.evaluations import *\n",
    "from functions.evaluations import evaluate_model\n",
    "from functions.train import train_MPNN_model\n",
    "\n",
    "# onderdelen die we importeren voor de visualisatie\n",
    "from rdkit.Chem.Draw import rdMolDraw2D\n",
    "from IPython.display import SVG\n",
    "\n",
    "# Onderdelen voor de k fold validation\n",
    "from collections import defaultdict\n",
    "from sklearn.model_selection import KFold"
   ]
  },
  {
   "cell_type": "markdown",
   "id": "3ae3494a",
   "metadata": {},
   "source": [
    "# Load the data and couple the SMILES to the yields and remove nan's"
   ]
  },
  {
   "cell_type": "code",
   "execution_count": 2,
   "id": "309a757a",
   "metadata": {},
   "outputs": [],
   "source": [
    "yields_path = \"data/compounds_yield.csv\"\n",
    "smiles_path = \"data/compounds_smiles.csv\"\n",
    "\n",
    "df_merged = data_loader(yields_path, smiles_path)\n",
    "\n",
    "\n",
    "#print(\"Merged DataFrame:\")\n",
    "#print(df_merged)\n"
   ]
  },
  {
   "cell_type": "markdown",
   "id": "7c0a2886",
   "metadata": {},
   "source": [
    "Convert the SMILES to Graphs"
   ]
  },
  {
   "cell_type": "markdown",
   "id": "656e5f5e",
   "metadata": {},
   "source": [
    "## Zet de SMILES om naar graphs"
   ]
  },
  {
   "cell_type": "code",
   "execution_count": 3,
   "id": "08f329e9",
   "metadata": {},
   "outputs": [
    {
     "name": "stderr",
     "output_type": "stream",
     "text": [
      "Converting SMILES to graphs:   0%|          | 0/83 [00:00<?, ?it/s]"
     ]
    },
    {
     "name": "stderr",
     "output_type": "stream",
     "text": [
      "Converting SMILES to graphs: 100%|██████████| 83/83 [00:01<00:00, 77.56it/s]\n"
     ]
    }
   ],
   "source": [
    "\n",
    "graphs = []\n",
    "for _, row in tqdm(df_merged.iterrows(), total=len(df_merged), desc=\"Converting SMILES to graphs\"):\n",
    "    try:\n",
    "        mol_graph = MolecularGraphFromSMILES(row['smiles_raw'])\n",
    "\n",
    "        graph = mol_graph.to_pyg_data()\n",
    "        graphs.append(graph)\n",
    "\n",
    "    except Exception as e:\n",
    "        print(f\"Fout bij SMILES: {row['smiles_raw']}\")\n",
    "        mol = Chem.MolFromSmiles(row['smiles_raw'])\n",
    "        if mol:\n",
    "            print(f\"  - aantal atomen in RDKit mol: {mol.GetNumAtoms()}\")\n",
    "        else:\n",
    "            print(\"  - RDKit kon mol niet parsen!\")\n",
    "        print(f\"  - foutmelding: {e}\")\n",
    "\n",
    "\n",
    "# Eerste splitsing: 85% train+val, 15% test\n",
    "train_val_graphs, test_graphs = train_test_split(\n",
    "    graphs, test_size=0.15, random_state=42\n",
    ")\n",
    "\n",
    "# Tweede splitsing: 70/15 = 70/85, 0.8235 voor train\n",
    "train_graphs, val_graphs = train_test_split(\n",
    "    train_val_graphs, test_size=0.1765, random_state=42\n",
    ")\n"
   ]
  },
  {
   "cell_type": "markdown",
   "id": "d4939680",
   "metadata": {},
   "source": [
    "## Zet de graphs in een dataloader zodat het de GNN in kan"
   ]
  },
  {
   "cell_type": "code",
   "execution_count": null,
   "id": "67b196a9",
   "metadata": {},
   "outputs": [
    {
     "name": "stderr",
     "output_type": "stream",
     "text": [
      "c:\\Users\\Carlijn\\miniconda3\\envs\\ml4chem_gnn\\Lib\\site-packages\\torch_geometric\\deprecation.py:26: UserWarning: 'data.DataLoader' is deprecated, use 'loader.DataLoader' instead\n",
      "  warnings.warn(out)\n"
     ]
    },
    {
     "name": "stdout",
     "output_type": "stream",
     "text": [
      "[Epoch 1] Train loss: 0.8040 | Site: 1.5444, Yield: 0.0636\n",
      "[Epoch 2] Train loss: 0.6921 | Site: 1.3587, Yield: 0.0254\n",
      "[Epoch 3] Train loss: 0.5909 | Site: 1.1590, Yield: 0.0227\n",
      "[Epoch 4] Train loss: 0.5206 | Site: 1.0249, Yield: 0.0162\n",
      "[Epoch 5] Train loss: 0.5167 | Site: 1.0200, Yield: 0.0134\n",
      "[Epoch 6] Train loss: 0.4329 | Site: 0.8456, Yield: 0.0203\n",
      "[Epoch 7] Train loss: 0.3619 | Site: 0.7035, Yield: 0.0203\n",
      "[Epoch 8] Train loss: 0.2813 | Site: 0.5352, Yield: 0.0274\n",
      "[Epoch 9] Train loss: 0.2522 | Site: 0.4724, Yield: 0.0321\n",
      "[Epoch 10] Train loss: 0.2188 | Site: 0.4089, Yield: 0.0287\n",
      "[Epoch 11] Train loss: 0.1880 | Site: 0.3466, Yield: 0.0294\n",
      "[Epoch 12] Train loss: 0.1857 | Site: 0.3468, Yield: 0.0245\n",
      "[Epoch 13] Train loss: 0.1771 | Site: 0.3326, Yield: 0.0217\n",
      "[Epoch 14] Train loss: 0.1894 | Site: 0.3531, Yield: 0.0258\n",
      "[Epoch 15] Train loss: 0.1755 | Site: 0.3312, Yield: 0.0198\n",
      "[Epoch 16] Train loss: 0.1685 | Site: 0.3171, Yield: 0.0199\n",
      "[Epoch 17] Train loss: 0.1737 | Site: 0.3185, Yield: 0.0290\n",
      "[Epoch 18] Train loss: 0.1432 | Site: 0.2673, Yield: 0.0191\n",
      "[Epoch 19] Train loss: 0.1469 | Site: 0.2712, Yield: 0.0225\n",
      "[Epoch 20] Train loss: 0.1522 | Site: 0.2824, Yield: 0.0220\n",
      "[Epoch 21] Train loss: 0.1562 | Site: 0.2867, Yield: 0.0256\n",
      "[Epoch 22] Train loss: 0.1966 | Site: 0.3779, Yield: 0.0152\n",
      "[Epoch 23] Train loss: 0.1620 | Site: 0.2925, Yield: 0.0315\n",
      "[Epoch 24] Train loss: 0.1707 | Site: 0.3196, Yield: 0.0218\n",
      "[Epoch 25] Train loss: 0.1264 | Site: 0.2239, Yield: 0.0289\n",
      "[Epoch 26] Train loss: 0.1637 | Site: 0.3076, Yield: 0.0199\n",
      "[Epoch 27] Train loss: 0.1262 | Site: 0.2354, Yield: 0.0170\n",
      "[Epoch 28] Train loss: 0.1699 | Site: 0.3245, Yield: 0.0152\n",
      "[Epoch 29] Train loss: 0.1698 | Site: 0.3207, Yield: 0.0189\n",
      "[Epoch 30] Train loss: 0.2045 | Site: 0.3809, Yield: 0.0282\n",
      "[Epoch 31] Train loss: 0.2484 | Site: 0.4700, Yield: 0.0268\n",
      "[Epoch 32] Train loss: 0.1500 | Site: 0.2745, Yield: 0.0254\n",
      "[Epoch 33] Train loss: 0.1614 | Site: 0.3028, Yield: 0.0200\n",
      "[Epoch 34] Train loss: 0.1615 | Site: 0.3009, Yield: 0.0221\n",
      "[Epoch 35] Train loss: 0.1570 | Site: 0.2934, Yield: 0.0207\n",
      "[Epoch 36] Train loss: 0.1356 | Site: 0.2512, Yield: 0.0200\n",
      "[Epoch 37] Train loss: 0.1838 | Site: 0.3480, Yield: 0.0196\n",
      "[Epoch 38] Train loss: 0.1815 | Site: 0.3447, Yield: 0.0182\n",
      "[Epoch 39] Train loss: 0.1649 | Site: 0.3085, Yield: 0.0212\n",
      "[Epoch 40] Train loss: 0.1680 | Site: 0.3106, Yield: 0.0254\n",
      "[Epoch 41] Train loss: 0.1816 | Site: 0.3382, Yield: 0.0250\n",
      "[Epoch 42] Train loss: 0.1695 | Site: 0.3103, Yield: 0.0288\n",
      "[Epoch 43] Train loss: 0.1327 | Site: 0.2422, Yield: 0.0233\n",
      "[Epoch 44] Train loss: 0.1646 | Site: 0.3089, Yield: 0.0203\n",
      "[Epoch 45] Train loss: 0.1949 | Site: 0.3699, Yield: 0.0199\n",
      "[Epoch 46] Train loss: 0.1649 | Site: 0.3084, Yield: 0.0213\n",
      "[Epoch 47] Train loss: 0.1720 | Site: 0.3245, Yield: 0.0195\n",
      "[Epoch 48] Train loss: 0.2133 | Site: 0.3986, Yield: 0.0280\n",
      "[Epoch 49] Train loss: 0.2109 | Site: 0.3962, Yield: 0.0255\n",
      "[Epoch 50] Train loss: 0.2027 | Site: 0.3716, Yield: 0.0338\n",
      "Evaluatie op testset na training:\n"
     ]
    },
    {
     "data": {
      "image/png": "[encoded data removed]",
      "text/plain": [
       "<Figure size 1000x400 with 2 Axes>"
      ]
     },
     "metadata": {},
     "output_type": "display_data"
    },
    {
     "name": "stdout",
     "output_type": "stream",
     "text": [
      " Testresultaten:\n",
      "\n",
      " Borylation site prediction:\n",
      "   - Accuracy      : 1.000\n",
      "   - Precision     : 1.000\n",
      "   - ROC AUC       : 1.000\n",
      "   - Top-1 Accuracy: 1.000\n",
      "   - Top-3 Accuracy: 1.000\n",
      "\n",
      " Yield prediction:\n",
      "   - MSE           : 0.004\n",
      "   - MAE           : 0.061\n",
      "   - R²            : 0.000\n",
      "Gemiddelde voorspelde yield: 0.26888448\n",
      "Gemiddelde echte yield: 0.3303587\n"
     ]
    }
   ],
   "source": [
    "# Instellingen\n",
    "batch_size = 16\n",
    "num_epochs = 50\n",
    "learning_rate = 0.001\n",
    "device = torch.device(\"cuda\" if torch.cuda.is_available() else \"cpu\")\n",
    "\n",
    "# Architecture MPNN\n",
    "node_in_feats=train_graphs[0].x.shape[1]                # Aantal input features per node\n",
    "edge_in_feats=train_graphs[0].edge_attr.shape[1]        # Aantal input features per edge\n",
    "hidden_feats=256                                         # Aantal verborgen features\n",
    "num_step_message_passing=3                              # Aantal stappen voor message passing\n",
    "readout_feats=512                                      # Aantal features voor readout\n",
    "activation='leaky_relu'                                 # Activatiefunctie\n",
    "dropout=0.2                                            # Dropout percentage\n",
    "\n",
    "# DataLoaders\n",
    "train_loader = DataLoader(train_graphs, batch_size=batch_size, shuffle=True)\n",
    "val_loader = DataLoader(val_graphs, batch_size=batch_size, shuffle=False)\n",
    "test_loader = DataLoader(test_graphs, batch_size=batch_size, shuffle=False)\n",
    "\n",
    "# Initiate model\n",
    "model = MPNN(\n",
    "    node_in_feats=node_in_feats,\n",
    "    edge_in_feats=edge_in_feats,\n",
    "    hidden_feats=hidden_feats,\n",
    "    num_step_message_passing=num_step_message_passing,\n",
    "    readout_feats=readout_feats,\n",
    "    activation=activation,\n",
    "    dropout=dropout\n",
    ")\n",
    "\n",
    "optimizer = torch.optim.Adam(model.parameters(), lr=learning_rate)\n",
    "\n",
    "# Training loop met validatie\n",
    "\n",
    "train_total_loss_list = []\n",
    "train_site_loss_list = []\n",
    "train_yield_loss_list = []\n",
    "\n",
    "val_r2_list = []\n",
    "val_auc_list = []\n",
    "\n",
    "\n",
    "for epoch in range(num_epochs):\n",
    "    train_losses = train_MPNN_model(model, train_loader, optimizer, device)\n",
    "    val_metrics, val_y_true, val_y_pred = evaluate_model(model, val_loader, device)\n",
    "\n",
    "    print(f\"[Epoch {epoch+1}] Train loss: {train_losses['total']:.4f} | \"\n",
    "        f\"Site: {train_losses['site']:.4f}, \"\n",
    "        f\"Yield: {train_losses['yield']:.4f}\")\n",
    "    train_total_loss_list.append(train_losses['total'])\n",
    "    train_site_loss_list.append(train_losses['site'])\n",
    "    train_yield_loss_list.append(train_losses['yield'])\n",
    "\n",
    "    val_r2_list.append(float(val_metrics['yield_R2']))\n",
    "    val_auc_list.append(val_metrics['site_AUC'])\n",
    "\n",
    "# Evaluate on testset after training\n",
    "print(\"Evaluatie op testset na training:\")\n",
    "test_metrics, y_true, y_pred = evaluate_model(model, test_loader, device)\n",
    "\n",
    "epochs = list(range(1, num_epochs + 1))\n",
    "\n",
    "plt.figure(figsize=(10, 4))\n",
    "\n",
    "# Loss plot\n",
    "plt.subplot(1, 2, 1)\n",
    "plt.plot(epochs, train_total_loss_list, label=\"Total loss\")\n",
    "plt.plot(epochs, train_site_loss_list, label=\"Site loss\")\n",
    "plt.plot(epochs, train_yield_loss_list, label=\"Yield loss\")\n",
    "plt.xlabel(\"Epoch\")\n",
    "plt.ylabel(\"Loss\")\n",
    "plt.title(\"Train loss per component\")\n",
    "plt.legend()\n",
    "\n",
    "# Validation metrics\n",
    "plt.subplot(1, 2, 2)\n",
    "plt.plot(epochs, val_r2_list, label=\"Validation R² (yield)\")\n",
    "plt.plot(epochs, val_auc_list, label=\"Validation AUC (site)\")\n",
    "plt.xlabel(\"Epoch\")\n",
    "plt.ylabel(\"Score\")\n",
    "plt.title(\"Validation metrics\")\n",
    "plt.legend()\n",
    "\n",
    "plt.tight_layout()\n",
    "plt.show()\n",
    "\n",
    "\n",
    "# Calculate Top-k accuracies (k=1 en k=3)\n",
    "all_site_logits = []\n",
    "all_site_masks = []\n",
    "all_batches = []\n",
    "\n",
    "with torch.no_grad():\n",
    "    for batch in test_loader:\n",
    "        batch = batch.to(device)\n",
    "        p_borylation, _ = model(batch.x, batch.edge_index, batch.edge_attr, batch.batch)\n",
    "\n",
    "        all_site_logits.append(torch.sigmoid(p_borylation))  # sigmoid omdat topk op probs werkt\n",
    "        all_site_masks.append(batch.borylation_mask)\n",
    "        all_batches.append(batch.batch)\n",
    "\n",
    "p_borylation = torch.cat(all_site_logits)\n",
    "borylation_mask = torch.cat(all_site_masks)\n",
    "batch_tensor = torch.cat(all_batches)\n",
    "\n",
    "acc_top1 = topk_accuracy(p_borylation, borylation_mask, batch_tensor, k=1)\n",
    "acc_top3 = topk_accuracy(p_borylation, borylation_mask, batch_tensor, k=3)\n",
    "\n",
    "# Print results\n",
    "print(\" Testresultaten:\")\n",
    "print(f\"\\n Borylation site prediction:\")\n",
    "print(f\"   - Accuracy      : {test_metrics['site_Accuracy']:.3f}\")\n",
    "print(f\"   - Precision     : {test_metrics['site_Precision']:.3f}\")\n",
    "print(f\"   - ROC AUC       : {test_metrics['site_AUC']:.3f}\")\n",
    "print(f\"   - Top-1 Accuracy: {acc_top1:.3f}\")\n",
    "print(f\"   - Top-3 Accuracy: {acc_top3:.3f}\")\n",
    "\n",
    "print(f\"\\n Yield prediction:\")\n",
    "print(f\"   - MSE           : {test_metrics['yield_MSE']:.3f}\")\n",
    "print(f\"   - MAE           : {test_metrics['yield_MAE']:.3f}\")\n",
    "print(f\"   - R²            : {test_metrics['yield_R2']:.3f}\")\n",
    "\n",
    "print(\"Gemiddelde voorspelde yield:\", y_pred.mean())\n",
    "print(\"Gemiddelde echte yield:\", y_true.mean())\n",
    "\n",
    "\n",
    "\n",
    "\n"
   ]
  },
  {
   "cell_type": "markdown",
   "id": "fd7131b2",
   "metadata": {},
   "source": [
    "The prediction and visualisation of the borylation reactivity for new molecules using our trained MPNN"
   ]
  },
  {
   "cell_type": "code",
   "execution_count": 5,
   "id": "47fd95c6",
   "metadata": {},
   "outputs": [
    {
     "name": "stdout",
     "output_type": "stream",
     "text": [
      "Predicted yield: 0.2683\n",
      "Borylation site probabilities per atom:\n",
      "  Atom 0: 0.9967\n",
      "  Atom 1: 0.0021\n",
      "  Atom 2: 0.0056\n",
      "  Atom 3: 0.0011\n",
      "  Atom 4: 0.0027\n",
      "  Atom 5: 0.0028\n",
      "  Atom 6: 0.0027\n",
      "  Atom 7: 0.0027\n",
      "  Atom 8: 0.0028\n",
      "  Atom 9: 0.0035\n",
      "  Atom 10: 0.0023\n"
     ]
    },
    {
     "data": {
      "image/svg+xml": [
       "<svg xmlns=\"http://www.w3.org/2000/svg\" xmlns:rdkit=\"http://www.rdkit.org/xml\" xmlns:xlink=\"http://www.w3.org/1999/xlink\" version=\"1.1\" baseProfile=\"full\" xml:space=\"preserve\" width=\"500px\" height=\"300px\" viewBox=\"0 0 500 300\">\n",
       "<!-- END OF HEADER -->\n",
       "<rect style=\"opacity:1.0;fill:#FFFFFF;stroke:none\" width=\"500.0\" height=\"300.0\" x=\"0.0\" y=\"0.0\"> </rect>\n",
       "<ellipse cx=\"130.1\" cy=\"55.1\" rx=\"15.2\" ry=\"15.2\" class=\"atom-0\" style=\"fill:#FF3333FE;fill-rule:evenodd;stroke:#FF3333FE;stroke-width:1.0px;stroke-linecap:butt;stroke-linejoin:miter;stroke-opacity:1\"/>\n",
       "<ellipse cx=\"113.2\" cy=\"129.1\" rx=\"15.2\" ry=\"15.2\" class=\"atom-1\" style=\"fill:#FF333300;fill-rule:evenodd;stroke:#FF333300;stroke-width:1.0px;stroke-linecap:butt;stroke-linejoin:miter;stroke-opacity:1\"/>\n",
       "<ellipse cx=\"168.9\" cy=\"180.8\" rx=\"15.2\" ry=\"15.2\" class=\"atom-2\" style=\"fill:#FF333301;fill-rule:evenodd;stroke:#FF333301;stroke-width:1.0px;stroke-linecap:butt;stroke-linejoin:miter;stroke-opacity:1\"/>\n",
       "<ellipse cx=\"157.8\" cy=\"254.7\" rx=\"18.5\" ry=\"15.2\" class=\"atom-3\" style=\"fill:#FF333300;fill-rule:evenodd;stroke:#FF333300;stroke-width:1.0px;stroke-linecap:butt;stroke-linejoin:miter;stroke-opacity:1\"/>\n",
       "<ellipse cx=\"241.4\" cy=\"158.4\" rx=\"15.2\" ry=\"15.2\" class=\"atom-4\" style=\"fill:#FF333300;fill-rule:evenodd;stroke:#FF333300;stroke-width:1.0px;stroke-linecap:butt;stroke-linejoin:miter;stroke-opacity:1\"/>\n",
       "<ellipse cx=\"297.0\" cy=\"210.0\" rx=\"15.2\" ry=\"15.2\" class=\"atom-5\" style=\"fill:#FF333300;fill-rule:evenodd;stroke:#FF333300;stroke-width:1.0px;stroke-linecap:butt;stroke-linejoin:miter;stroke-opacity:1\"/>\n",
       "<ellipse cx=\"369.6\" cy=\"187.6\" rx=\"15.2\" ry=\"15.2\" class=\"atom-6\" style=\"fill:#FF333300;fill-rule:evenodd;stroke:#FF333300;stroke-width:1.0px;stroke-linecap:butt;stroke-linejoin:miter;stroke-opacity:1\"/>\n",
       "<ellipse cx=\"386.4\" cy=\"113.6\" rx=\"15.2\" ry=\"15.2\" class=\"atom-7\" style=\"fill:#FF333300;fill-rule:evenodd;stroke:#FF333300;stroke-width:1.0px;stroke-linecap:butt;stroke-linejoin:miter;stroke-opacity:1\"/>\n",
       "<ellipse cx=\"330.8\" cy=\"62.0\" rx=\"15.2\" ry=\"15.2\" class=\"atom-8\" style=\"fill:#FF333300;fill-rule:evenodd;stroke:#FF333300;stroke-width:1.0px;stroke-linecap:butt;stroke-linejoin:miter;stroke-opacity:1\"/>\n",
       "<ellipse cx=\"258.3\" cy=\"84.4\" rx=\"15.2\" ry=\"15.2\" class=\"atom-9\" style=\"fill:#FF333300;fill-rule:evenodd;stroke:#FF333300;stroke-width:1.0px;stroke-linecap:butt;stroke-linejoin:miter;stroke-opacity:1\"/>\n",
       "<ellipse cx=\"202.6\" cy=\"32.8\" rx=\"15.2\" ry=\"15.2\" class=\"atom-10\" style=\"fill:#FF333300;fill-rule:evenodd;stroke:#FF333300;stroke-width:1.0px;stroke-linecap:butt;stroke-linejoin:miter;stroke-opacity:1\"/>\n",
       "<path class=\"bond-0 atom-0 atom-1\" d=\"M 130.1,55.1 L 113.2,129.1\" style=\"fill:none;fill-rule:evenodd;stroke:#000000;stroke-width:2.0px;stroke-linecap:butt;stroke-linejoin:miter;stroke-opacity:1\"/>\n",
       "<path class=\"bond-0 atom-0 atom-1\" d=\"M 139.7,64.1 L 125.8,125.3\" style=\"fill:none;fill-rule:evenodd;stroke:#000000;stroke-width:2.0px;stroke-linecap:butt;stroke-linejoin:miter;stroke-opacity:1\"/>\n",
       "<path class=\"bond-1 atom-1 atom-2\" d=\"M 113.2,129.1 L 168.9,180.8\" style=\"fill:none;fill-rule:evenodd;stroke:#000000;stroke-width:2.0px;stroke-linecap:butt;stroke-linejoin:miter;stroke-opacity:1\"/>\n",
       "<path class=\"bond-2 atom-2 atom-3\" d=\"M 168.9,180.8 L 155.0,241.5\" style=\"fill:none;fill-rule:evenodd;stroke:#000000;stroke-width:2.0px;stroke-linecap:butt;stroke-linejoin:miter;stroke-opacity:1\"/>\n",
       "<path class=\"bond-3 atom-2 atom-4\" d=\"M 168.9,180.8 L 241.4,158.4\" style=\"fill:none;fill-rule:evenodd;stroke:#000000;stroke-width:2.0px;stroke-linecap:butt;stroke-linejoin:miter;stroke-opacity:1\"/>\n",
       "<path class=\"bond-3 atom-2 atom-4\" d=\"M 171.8,167.9 L 231.8,149.4\" style=\"fill:none;fill-rule:evenodd;stroke:#000000;stroke-width:2.0px;stroke-linecap:butt;stroke-linejoin:miter;stroke-opacity:1\"/>\n",
       "<path class=\"bond-4 atom-4 atom-5\" d=\"M 241.4,158.4 L 297.0,210.0\" style=\"fill:none;fill-rule:evenodd;stroke:#000000;stroke-width:2.0px;stroke-linecap:butt;stroke-linejoin:miter;stroke-opacity:1\"/>\n",
       "<path class=\"bond-5 atom-5 atom-6\" d=\"M 297.0,210.0 L 369.6,187.6\" style=\"fill:none;fill-rule:evenodd;stroke:#000000;stroke-width:2.0px;stroke-linecap:butt;stroke-linejoin:miter;stroke-opacity:1\"/>\n",
       "<path class=\"bond-5 atom-5 atom-6\" d=\"M 300.0,197.2 L 359.9,178.7\" style=\"fill:none;fill-rule:evenodd;stroke:#000000;stroke-width:2.0px;stroke-linecap:butt;stroke-linejoin:miter;stroke-opacity:1\"/>\n",
       "<path class=\"bond-6 atom-6 atom-7\" d=\"M 369.6,187.6 L 386.4,113.6\" style=\"fill:none;fill-rule:evenodd;stroke:#000000;stroke-width:2.0px;stroke-linecap:butt;stroke-linejoin:miter;stroke-opacity:1\"/>\n",
       "<path class=\"bond-7 atom-7 atom-8\" d=\"M 386.4,113.6 L 330.8,62.0\" style=\"fill:none;fill-rule:evenodd;stroke:#000000;stroke-width:2.0px;stroke-linecap:butt;stroke-linejoin:miter;stroke-opacity:1\"/>\n",
       "<path class=\"bond-7 atom-7 atom-8\" d=\"M 373.9,117.5 L 327.9,74.8\" style=\"fill:none;fill-rule:evenodd;stroke:#000000;stroke-width:2.0px;stroke-linecap:butt;stroke-linejoin:miter;stroke-opacity:1\"/>\n",
       "<path class=\"bond-8 atom-8 atom-9\" d=\"M 330.8,62.0 L 258.3,84.4\" style=\"fill:none;fill-rule:evenodd;stroke:#000000;stroke-width:2.0px;stroke-linecap:butt;stroke-linejoin:miter;stroke-opacity:1\"/>\n",
       "<path class=\"bond-9 atom-9 atom-10\" d=\"M 258.3,84.4 L 202.6,32.8\" style=\"fill:none;fill-rule:evenodd;stroke:#000000;stroke-width:2.0px;stroke-linecap:butt;stroke-linejoin:miter;stroke-opacity:1\"/>\n",
       "<path class=\"bond-9 atom-9 atom-10\" d=\"M 245.7,88.3 L 199.7,45.6\" style=\"fill:none;fill-rule:evenodd;stroke:#000000;stroke-width:2.0px;stroke-linecap:butt;stroke-linejoin:miter;stroke-opacity:1\"/>\n",
       "<path class=\"bond-10 atom-9 atom-4\" d=\"M 258.3,84.4 L 241.4,158.4\" style=\"fill:none;fill-rule:evenodd;stroke:#000000;stroke-width:2.0px;stroke-linecap:butt;stroke-linejoin:miter;stroke-opacity:1\"/>\n",
       "<path class=\"bond-11 atom-10 atom-0\" d=\"M 202.6,32.8 L 130.1,55.1\" style=\"fill:none;fill-rule:evenodd;stroke:#000000;stroke-width:2.0px;stroke-linecap:butt;stroke-linejoin:miter;stroke-opacity:1\"/>\n",
       "<path d=\"M 129.3,58.8 L 130.1,55.1 L 133.7,54.0\" style=\"fill:none;stroke:#000000;stroke-width:2.0px;stroke-linecap:butt;stroke-linejoin:miter;stroke-opacity:1;\"/>\n",
       "<path d=\"M 114.1,125.4 L 113.2,129.1 L 116.0,131.7\" style=\"fill:none;stroke:#000000;stroke-width:2.0px;stroke-linecap:butt;stroke-linejoin:miter;stroke-opacity:1;\"/>\n",
       "<path d=\"M 294.3,207.4 L 297.0,210.0 L 300.7,208.9\" style=\"fill:none;stroke:#000000;stroke-width:2.0px;stroke-linecap:butt;stroke-linejoin:miter;stroke-opacity:1;\"/>\n",
       "<path d=\"M 365.9,188.7 L 369.6,187.6 L 370.4,183.9\" style=\"fill:none;stroke:#000000;stroke-width:2.0px;stroke-linecap:butt;stroke-linejoin:miter;stroke-opacity:1;\"/>\n",
       "<path d=\"M 385.6,117.3 L 386.4,113.6 L 383.7,111.0\" style=\"fill:none;stroke:#000000;stroke-width:2.0px;stroke-linecap:butt;stroke-linejoin:miter;stroke-opacity:1;\"/>\n",
       "<path d=\"M 333.6,64.6 L 330.8,62.0 L 327.2,63.1\" style=\"fill:none;stroke:#000000;stroke-width:2.0px;stroke-linecap:butt;stroke-linejoin:miter;stroke-opacity:1;\"/>\n",
       "<path d=\"M 205.4,35.3 L 202.6,32.8 L 199.0,33.9\" style=\"fill:none;stroke:#000000;stroke-width:2.0px;stroke-linecap:butt;stroke-linejoin:miter;stroke-opacity:1;\"/>\n",
       "<path class=\"atom-3\" d=\"M 155.1 254.2 Q 157.2 254.8, 158.2 256.1 Q 159.3 257.3, 159.3 259.2 Q 159.3 262.1, 157.4 263.8 Q 155.5 265.5, 151.9 265.5 L 144.7 265.5 L 144.7 244.0 L 151.1 244.0 Q 154.7 244.0, 156.6 245.5 Q 158.4 247.0, 158.4 249.7 Q 158.4 253.0, 155.1 254.2 M 147.6 246.4 L 147.6 253.2 L 151.1 253.2 Q 153.2 253.2, 154.3 252.3 Q 155.4 251.4, 155.4 249.7 Q 155.4 246.4, 151.1 246.4 L 147.6 246.4 M 151.9 263.1 Q 154.0 263.1, 155.1 262.1 Q 156.3 261.1, 156.3 259.2 Q 156.3 257.4, 155.0 256.5 Q 153.8 255.6, 151.5 255.6 L 147.6 255.6 L 147.6 263.1 L 151.9 263.1 \" fill=\"#000000\"/>\n",
       "<path class=\"atom-3\" d=\"M 164.2 249.9 L 164.5 252.0 Q 166.2 249.6, 168.8 249.6 Q 169.7 249.6, 170.8 249.9 L 170.4 252.5 Q 169.1 252.2, 168.3 252.2 Q 167.1 252.2, 166.2 252.7 Q 165.4 253.2, 164.7 254.4 L 164.7 265.5 L 161.9 265.5 L 161.9 249.9 L 164.2 249.9 \" fill=\"#000000\"/>\n",
       "<path class=\"note\" d=\"M 120.8 52.1 Q 118.9 52.1, 117.9 50.6 Q 116.9 49.2, 116.9 46.6 Q 116.9 44.0, 117.9 42.6 Q 118.8 41.1, 120.8 41.1 Q 122.8 41.1, 123.8 42.6 Q 124.8 44.0, 124.8 46.6 Q 124.8 49.2, 123.8 50.6 Q 122.8 52.1, 120.8 52.1 M 120.8 50.9 Q 122.0 50.9, 122.6 49.8 Q 123.3 48.7, 123.3 46.6 Q 123.3 44.5, 122.6 43.4 Q 122.0 42.3, 120.8 42.3 Q 119.7 42.3, 119.0 43.4 Q 118.4 44.5, 118.4 46.6 Q 118.4 48.7, 119.0 49.8 Q 119.7 50.9, 120.8 50.9 \" fill=\"#000000\"/>\n",
       "<path class=\"note\" d=\"M 98.5 137.1 L 100.9 137.1 L 100.9 129.0 L 98.3 129.8 L 97.9 128.9 L 101.2 127.5 L 102.3 127.7 L 102.3 137.1 L 104.4 137.1 L 104.4 138.3 L 98.5 138.3 L 98.5 137.1 \" fill=\"#000000\"/>\n",
       "<path class=\"note\" d=\"M 153.2 181.2 Q 153.6 180.2, 154.5 179.6 Q 155.5 179.1, 156.8 179.1 Q 158.4 179.1, 159.3 179.9 Q 160.2 180.8, 160.2 182.4 Q 160.2 184.0, 159.0 185.5 Q 157.9 186.9, 155.5 188.7 L 160.4 188.7 L 160.4 189.9 L 153.2 189.9 L 153.2 188.9 Q 155.2 187.5, 156.4 186.4 Q 157.6 185.4, 158.1 184.4 Q 158.7 183.4, 158.7 182.5 Q 158.7 181.4, 158.2 180.8 Q 157.7 180.3, 156.8 180.3 Q 155.9 180.3, 155.3 180.6 Q 154.8 181.0, 154.4 181.7 L 153.2 181.2 \" fill=\"#000000\"/>\n",
       "<path class=\"note\" d=\"M 147.9 279.2 Q 149.0 279.5, 149.5 280.2 Q 150.0 280.8, 150.0 281.9 Q 150.0 282.8, 149.5 283.5 Q 149.1 284.2, 148.2 284.6 Q 147.4 285.0, 146.3 285.0 Q 145.2 285.0, 144.3 284.6 Q 143.5 284.2, 142.8 283.4 L 143.6 282.5 Q 144.3 283.2, 144.9 283.5 Q 145.4 283.8, 146.3 283.8 Q 147.3 283.8, 147.9 283.3 Q 148.5 282.7, 148.5 281.9 Q 148.5 280.8, 147.9 280.3 Q 147.2 279.8, 145.9 279.8 L 145.2 279.8 L 145.2 278.7 L 145.8 278.7 Q 147.0 278.7, 147.6 278.2 Q 148.2 277.7, 148.2 276.7 Q 148.2 276.0, 147.7 275.6 Q 147.2 275.2, 146.3 275.2 Q 145.4 275.2, 144.9 275.5 Q 144.3 275.8, 143.9 276.6 L 142.9 276.1 Q 143.2 275.2, 144.2 274.6 Q 145.1 274.0, 146.3 274.0 Q 147.9 274.0, 148.8 274.7 Q 149.8 275.5, 149.8 276.7 Q 149.8 277.6, 149.3 278.2 Q 148.8 278.8, 147.9 279.2 \" fill=\"#000000\"/>\n",
       "<path class=\"note\" d=\"M 241.4 172.4 L 242.7 172.4 L 242.7 173.6 L 241.4 173.6 L 241.4 176.1 L 240.0 176.1 L 240.0 173.6 L 234.5 173.6 L 234.5 172.6 L 239.2 165.3 L 241.4 165.3 L 241.4 172.4 M 236.2 172.4 L 240.0 172.4 L 240.0 166.3 L 236.2 172.4 \" fill=\"#000000\"/>\n",
       "<path class=\"note\" d=\"M 294.5 221.0 Q 295.4 221.0, 296.2 221.4 Q 297.0 221.8, 297.4 222.5 Q 297.9 223.3, 297.9 224.3 Q 297.9 225.4, 297.3 226.2 Q 296.8 227.0, 295.9 227.4 Q 295.0 227.8, 294.0 227.8 Q 293.0 227.8, 292.1 227.4 Q 291.2 227.1, 290.6 226.4 L 291.5 225.4 Q 292.0 226.0, 292.7 226.3 Q 293.4 226.6, 294.1 226.6 Q 295.0 226.6, 295.7 226.0 Q 296.3 225.4, 296.3 224.3 Q 296.3 223.2, 295.7 222.6 Q 295.0 222.1, 294.0 222.1 Q 293.0 222.1, 292.0 222.5 L 291.2 222.1 L 291.7 216.9 L 297.2 216.9 L 297.0 218.2 L 292.9 218.2 L 292.6 221.3 Q 293.6 221.0, 294.5 221.0 \" fill=\"#000000\"/>\n",
       "<path class=\"note\" d=\"M 379.3 194.9 Q 380.3 194.9, 381.0 195.3 Q 381.7 195.7, 382.2 196.5 Q 382.6 197.2, 382.6 198.2 Q 382.6 199.2, 382.1 200.0 Q 381.6 200.8, 380.8 201.3 Q 380.0 201.8, 378.9 201.8 Q 377.0 201.8, 376.1 200.5 Q 375.1 199.2, 375.1 196.6 Q 375.1 193.7, 376.3 192.3 Q 377.5 190.8, 379.8 190.8 Q 380.5 190.8, 381.0 190.9 Q 381.6 191.1, 382.1 191.4 L 381.5 192.4 Q 380.8 192.0, 379.8 192.0 Q 378.3 192.0, 377.5 193.0 Q 376.7 193.9, 376.6 196.0 Q 377.2 195.5, 377.9 195.2 Q 378.6 194.9, 379.3 194.9 M 379.0 200.5 Q 379.5 200.5, 380.0 200.2 Q 380.5 199.9, 380.8 199.4 Q 381.0 198.8, 381.0 198.2 Q 381.0 197.2, 380.5 196.7 Q 380.0 196.1, 379.0 196.1 Q 378.4 196.1, 377.7 196.4 Q 377.1 196.7, 376.6 197.1 Q 376.7 198.9, 377.3 199.7 Q 377.8 200.5, 379.0 200.5 \" fill=\"#000000\"/>\n",
       "<path class=\"note\" d=\"M 400.6 105.7 L 395.0 105.7 L 395.0 104.5 L 402.1 104.5 L 402.1 105.6 L 397.7 115.2 L 396.3 115.2 L 400.6 105.7 \" fill=\"#000000\"/>\n",
       "<path class=\"note\" d=\"M 335.3 49.4 Q 336.3 49.8, 336.8 50.5 Q 337.4 51.1, 337.4 52.2 Q 337.4 53.1, 336.9 53.8 Q 336.5 54.5, 335.6 54.9 Q 334.8 55.2, 333.7 55.2 Q 331.9 55.2, 330.8 54.4 Q 329.8 53.6, 329.8 52.2 Q 329.8 51.3, 330.3 50.6 Q 330.7 49.9, 331.7 49.4 Q 331.0 49.1, 330.6 48.5 Q 330.2 47.9, 330.2 47.0 Q 330.2 45.7, 331.1 45.0 Q 332.0 44.2, 333.6 44.2 Q 335.2 44.2, 336.1 45.0 Q 337.0 45.7, 337.0 47.0 Q 337.0 47.8, 336.6 48.4 Q 336.1 48.9, 335.3 49.4 M 333.6 45.4 Q 332.7 45.4, 332.2 45.8 Q 331.7 46.2, 331.7 47.0 Q 331.7 47.5, 332.1 47.9 Q 332.4 48.3, 332.9 48.5 Q 333.3 48.7, 334.3 49.0 Q 334.9 48.6, 335.2 48.1 Q 335.5 47.6, 335.5 47.0 Q 335.5 46.2, 335.0 45.8 Q 334.5 45.4, 333.6 45.4 M 333.7 54.1 Q 334.7 54.1, 335.3 53.6 Q 335.9 53.0, 335.9 52.1 Q 335.9 51.6, 335.6 51.2 Q 335.2 50.8, 334.8 50.6 Q 334.3 50.4, 333.4 50.1 L 332.8 49.9 Q 332.0 50.4, 331.7 50.9 Q 331.3 51.4, 331.3 52.1 Q 331.3 53.0, 332.0 53.6 Q 332.6 54.1, 333.7 54.1 \" fill=\"#000000\"/>\n",
       "<path class=\"note\" d=\"M 261.0 66.6 Q 262.9 66.6, 263.8 67.9 Q 264.8 69.2, 264.8 71.8 Q 264.8 74.6, 263.6 76.1 Q 262.4 77.6, 260.1 77.6 Q 259.5 77.6, 258.9 77.4 Q 258.3 77.3, 257.8 77.0 L 258.4 76.0 Q 259.2 76.4, 260.1 76.4 Q 261.6 76.4, 262.4 75.4 Q 263.2 74.4, 263.3 72.4 Q 262.7 72.9, 262.0 73.2 Q 261.4 73.4, 260.6 73.4 Q 259.7 73.4, 258.9 73.0 Q 258.2 72.6, 257.8 71.9 Q 257.4 71.1, 257.4 70.2 Q 257.4 69.1, 257.8 68.3 Q 258.3 67.5, 259.1 67.1 Q 259.9 66.6, 261.0 66.6 M 258.9 70.2 Q 258.9 71.1, 259.4 71.7 Q 259.9 72.2, 260.9 72.2 Q 261.5 72.2, 262.2 72.0 Q 262.8 71.7, 263.3 71.2 Q 263.2 69.5, 262.7 68.7 Q 262.1 67.9, 261.0 67.9 Q 260.4 67.9, 259.9 68.2 Q 259.4 68.5, 259.2 69.0 Q 258.9 69.5, 258.9 70.2 \" fill=\"#000000\"/>\n",
       "<path class=\"note\" d=\"M 198.2 24.7 L 200.5 24.7 L 200.5 16.6 L 197.9 17.4 L 197.6 16.5 L 200.9 15.1 L 202.0 15.2 L 202.0 24.7 L 204.1 24.7 L 204.1 25.9 L 198.2 25.9 L 198.2 24.7 \" fill=\"#000000\"/>\n",
       "<path class=\"note\" d=\"M 209.4 26.0 Q 207.4 26.0, 206.4 24.5 Q 205.4 23.1, 205.4 20.5 Q 205.4 17.9, 206.4 16.4 Q 207.4 15.0, 209.4 15.0 Q 211.3 15.0, 212.3 16.4 Q 213.3 17.9, 213.3 20.5 Q 213.3 23.1, 212.3 24.5 Q 211.3 26.0, 209.4 26.0 M 209.4 24.8 Q 210.5 24.8, 211.2 23.7 Q 211.8 22.6, 211.8 20.5 Q 211.8 18.4, 211.2 17.3 Q 210.5 16.2, 209.4 16.2 Q 208.2 16.2, 207.6 17.3 Q 206.9 18.4, 206.9 20.5 Q 206.9 22.6, 207.6 23.7 Q 208.2 24.8, 209.4 24.8 \" fill=\"#000000\"/>\n",
       "</svg>"
      ],
      "text/plain": [
       "<IPython.core.display.SVG object>"
      ]
     },
     "metadata": {},
     "output_type": "display_data"
    }
   ],
   "source": [
    "# Input SMILES string\n",
    "#smiles_str = 'CC1=CC(=O)OC2=C1C=CC(=C2)Br'\n",
    "#smiles_str = 'c2ccc1NCCc1c2'\n",
    "#smiles_str = 'c1c(OC)cccc1'\n",
    "smiles_str = 'c2cc(Br)c1ccccc1c2'\n",
    "\n",
    "# Convert to graph\n",
    "mol_graph = MolecularGraphFromSMILES(smiles_str)\n",
    "graph = mol_graph.to_pyg_data()\n",
    "graph.batch = torch.zeros(graph.x.size(0), dtype=torch.long)  # single molecule batch\n",
    "graph = graph.to(device)\n",
    "\n",
    "# Inference\n",
    "model.eval()\n",
    "with torch.no_grad():\n",
    "    site_logits, predicted_yield = model(\n",
    "        graph.x, graph.edge_index, graph.edge_attr, graph.batch\n",
    "    )\n",
    "    probs = torch.sigmoid(site_logits).cpu().numpy()\n",
    "    yield_pred = predicted_yield.item()\n",
    "\n",
    "print(\"Predicted yield:\", round(yield_pred, 4))\n",
    "print(\"Borylation site probabilities per atom:\")\n",
    "for i, prob in enumerate(probs):\n",
    "    print(f\"  Atom {i}: {prob:.4f}\")\n",
    "\n",
    "# Visualize the molecule with highlighted atoms based on predicted probabilities\n",
    "mol = Chem.MolFromSmiles(smiles_str)\n",
    "drawer = rdMolDraw2D.MolDraw2DSVG(500, 300)\n",
    "drawer.drawOptions().addAtomIndices = True  # Show atom indices\n",
    "\n",
    "# Color atoms by probability\n",
    "atom_colors = {\n",
    "    i: (1.0, 0.2, 0.2, float(prob))\n",
    "    for i, prob in enumerate(probs)\n",
    "}\n",
    "rdMolDraw2D.PrepareAndDrawMolecule(drawer, mol, highlightAtoms=atom_colors.keys(), highlightAtomColors=atom_colors)\n",
    "drawer.FinishDrawing()\n",
    "\n",
    "# Display\n",
    "svg = drawer.GetDrawingText()\n",
    "display(SVG(svg))"
   ]
  },
  {
   "cell_type": "code",
   "execution_count": null,
   "id": "259679e8",
   "metadata": {},
   "outputs": [
    {
     "name": "stdout",
     "output_type": "stream",
     "text": [
      "\n",
      "--- Fold 1 ---\n",
      "\n",
      "--- Fold 2 ---\n"
     ]
    },
    {
     "name": "stderr",
     "output_type": "stream",
     "text": [
      "c:\\Users\\Carlijn\\miniconda3\\envs\\ml4chem_gnn\\Lib\\site-packages\\torch_geometric\\deprecation.py:26: UserWarning: 'data.DataLoader' is deprecated, use 'loader.DataLoader' instead\n",
      "  warnings.warn(out)\n"
     ]
    },
    {
     "name": "stdout",
     "output_type": "stream",
     "text": [
      "\n",
      "--- Fold 3 ---\n"
     ]
    },
    {
     "name": "stderr",
     "output_type": "stream",
     "text": [
      "c:\\Users\\Carlijn\\miniconda3\\envs\\ml4chem_gnn\\Lib\\site-packages\\torch_geometric\\deprecation.py:26: UserWarning: 'data.DataLoader' is deprecated, use 'loader.DataLoader' instead\n",
      "  warnings.warn(out)\n"
     ]
    },
    {
     "name": "stdout",
     "output_type": "stream",
     "text": [
      "\n",
      "--- Fold 4 ---\n"
     ]
    },
    {
     "name": "stderr",
     "output_type": "stream",
     "text": [
      "c:\\Users\\Carlijn\\miniconda3\\envs\\ml4chem_gnn\\Lib\\site-packages\\torch_geometric\\deprecation.py:26: UserWarning: 'data.DataLoader' is deprecated, use 'loader.DataLoader' instead\n",
      "  warnings.warn(out)\n"
     ]
    },
    {
     "name": "stdout",
     "output_type": "stream",
     "text": [
      "\n",
      "--- Fold 5 ---\n"
     ]
    },
    {
     "name": "stderr",
     "output_type": "stream",
     "text": [
      "c:\\Users\\Carlijn\\miniconda3\\envs\\ml4chem_gnn\\Lib\\site-packages\\torch_geometric\\deprecation.py:26: UserWarning: 'data.DataLoader' is deprecated, use 'loader.DataLoader' instead\n",
      "  warnings.warn(out)\n"
     ]
    },
    {
     "name": "stdout",
     "output_type": "stream",
     "text": [
      "\n",
      "Gemiddelde resultaten over folds:\n",
      "yield_MSE           : 0.0052 ± 0.0015\n",
      "yield_MAE           : 0.0716 ± 0.0098\n",
      "yield_R2            : 0.0000 ± 0.0000\n",
      "site_Accuracy       : 0.9989 ± 0.0022\n",
      "site_Precision      : 1.0000 ± 0.0000\n",
      "site_AUC            : 1.0000 ± 0.0000\n"
     ]
    }
   ],
   "source": [
    "# Stel K-fold in\n",
    "k = 5\n",
    "kf = KFold(n_splits=k, shuffle=True, random_state=42)\n",
    "\n",
    "# Instellingen\n",
    "batch_size = 16\n",
    "num_epochs = 30\n",
    "learning_rate = 0.001\n",
    "device = torch.device(\"cuda\" if torch.cuda.is_available() else \"cpu\")\n",
    "\n",
    "# Architecture MPNN\n",
    "node_in_feats=train_graphs[0].x.shape[1]                # Aantal input features per node\n",
    "edge_in_feats=train_graphs[0].edge_attr.shape[1]        # Aantal input features per edge\n",
    "hidden_feats=256                                         # Aantal verborgen features\n",
    "num_step_message_passing=3                              # Aantal stappen voor message passing\n",
    "readout_feats=512                                      # Aantal features voor readout\n",
    "activation='leaky_relu'                                 # Activatiefunctie\n",
    "dropout=0.2                                            # Dropout percentage\n",
    "\n",
    "\n",
    "results = []\n",
    "\n",
    "for fold, (train_idx, val_idx) in enumerate(kf.split(graphs)):\n",
    "    print(f\"\\n--- Fold {fold+1} ---\")\n",
    "\n",
    "    train_graphs = [graphs[i] for i in train_idx]\n",
    "    val_graphs = [graphs[i] for i in val_idx]\n",
    "\n",
    "    # DataLoaders\n",
    "    train_loader = DataLoader(train_graphs, batch_size=batch_size, shuffle=True)\n",
    "    val_loader = DataLoader(val_graphs, batch_size=batch_size, shuffle=False)\n",
    "\n",
    "    # Init model opnieuw per fold\n",
    "    model = MPNN(\n",
    "        node_in_feats=node_in_feats,\n",
    "        edge_in_feats=edge_in_feats,\n",
    "        hidden_feats=hidden_feats,\n",
    "        num_step_message_passing=num_step_message_passing,\n",
    "        readout_feats=readout_feats,\n",
    "        activation=activation,\n",
    "        dropout=dropout\n",
    "    ).to(device)\n",
    "\n",
    "    optimizer = torch.optim.Adam(model.parameters(), lr=learning_rate)\n",
    "\n",
    "    # Train per fold\n",
    "    for epoch in range(num_epochs):\n",
    "        train_losses = train_MPNN_model(model, train_loader, optimizer, device)\n",
    "\n",
    "    # Eval per fold\n",
    "    metrics, _, _ = evaluate_model(model, val_loader, device)\n",
    "    results.append(metrics)\n",
    "\n",
    "# Gemiddelde resultaten berekenen\n",
    "avg_metrics = defaultdict(list)\n",
    "for metrics in results:\n",
    "    for key, val in metrics.items():\n",
    "        avg_metrics[key].append(val)\n",
    "\n",
    "print(\"\\nGemiddelde resultaten over folds:\")\n",
    "for key, values in avg_metrics.items():\n",
    "    mean = sum(values) / len(values)\n",
    "    std = (sum((v - mean) ** 2 for v in values) / len(values)) ** 0.5\n",
    "    print(f\"{key:20s}: {mean:.4f} ± {std:.4f}\")"
   ]
  },
  {
   "cell_type": "code",
   "execution_count": 12,
   "id": "42b4cbc9",
   "metadata": {},
   "outputs": [
    {
     "name": "stdout",
     "output_type": "stream",
     "text": [
      "Predicted yield: 0.2586\n",
      "Borylation site probabilities per atom:\n",
      "  Atom 0: 0.9951\n",
      "  Atom 1: 0.0030\n",
      "  Atom 2: 0.0142\n",
      "  Atom 3: 0.0016\n",
      "  Atom 4: 0.0052\n",
      "  Atom 5: 0.0063\n",
      "  Atom 6: 0.0061\n",
      "  Atom 7: 0.0061\n",
      "  Atom 8: 0.0056\n",
      "  Atom 9: 0.0086\n",
      "  Atom 10: 0.0038\n"
     ]
    },
    {
     "data": {
      "image/svg+xml": [
       "<svg xmlns=\"http://www.w3.org/2000/svg\" xmlns:rdkit=\"http://www.rdkit.org/xml\" xmlns:xlink=\"http://www.w3.org/1999/xlink\" version=\"1.1\" baseProfile=\"full\" xml:space=\"preserve\" width=\"500px\" height=\"300px\" viewBox=\"0 0 500 300\">\n",
       "<!-- END OF HEADER -->\n",
       "<rect style=\"opacity:1.0;fill:#FFFFFF;stroke:none\" width=\"500.0\" height=\"300.0\" x=\"0.0\" y=\"0.0\"> </rect>\n",
       "<ellipse cx=\"130.1\" cy=\"55.1\" rx=\"15.2\" ry=\"15.2\" class=\"atom-0\" style=\"fill:#FF3333FD;fill-rule:evenodd;stroke:#FF3333FD;stroke-width:1.0px;stroke-linecap:butt;stroke-linejoin:miter;stroke-opacity:1\"/>\n",
       "<ellipse cx=\"113.2\" cy=\"129.1\" rx=\"15.2\" ry=\"15.2\" class=\"atom-1\" style=\"fill:#FF333300;fill-rule:evenodd;stroke:#FF333300;stroke-width:1.0px;stroke-linecap:butt;stroke-linejoin:miter;stroke-opacity:1\"/>\n",
       "<ellipse cx=\"168.9\" cy=\"180.8\" rx=\"15.2\" ry=\"15.2\" class=\"atom-2\" style=\"fill:#FF333303;fill-rule:evenodd;stroke:#FF333303;stroke-width:1.0px;stroke-linecap:butt;stroke-linejoin:miter;stroke-opacity:1\"/>\n",
       "<ellipse cx=\"157.8\" cy=\"254.7\" rx=\"18.5\" ry=\"15.2\" class=\"atom-3\" style=\"fill:#FF333300;fill-rule:evenodd;stroke:#FF333300;stroke-width:1.0px;stroke-linecap:butt;stroke-linejoin:miter;stroke-opacity:1\"/>\n",
       "<ellipse cx=\"241.4\" cy=\"158.4\" rx=\"15.2\" ry=\"15.2\" class=\"atom-4\" style=\"fill:#FF333301;fill-rule:evenodd;stroke:#FF333301;stroke-width:1.0px;stroke-linecap:butt;stroke-linejoin:miter;stroke-opacity:1\"/>\n",
       "<ellipse cx=\"297.0\" cy=\"210.0\" rx=\"15.2\" ry=\"15.2\" class=\"atom-5\" style=\"fill:#FF333301;fill-rule:evenodd;stroke:#FF333301;stroke-width:1.0px;stroke-linecap:butt;stroke-linejoin:miter;stroke-opacity:1\"/>\n",
       "<ellipse cx=\"369.6\" cy=\"187.6\" rx=\"15.2\" ry=\"15.2\" class=\"atom-6\" style=\"fill:#FF333301;fill-rule:evenodd;stroke:#FF333301;stroke-width:1.0px;stroke-linecap:butt;stroke-linejoin:miter;stroke-opacity:1\"/>\n",
       "<ellipse cx=\"386.4\" cy=\"113.6\" rx=\"15.2\" ry=\"15.2\" class=\"atom-7\" style=\"fill:#FF333301;fill-rule:evenodd;stroke:#FF333301;stroke-width:1.0px;stroke-linecap:butt;stroke-linejoin:miter;stroke-opacity:1\"/>\n",
       "<ellipse cx=\"330.8\" cy=\"62.0\" rx=\"15.2\" ry=\"15.2\" class=\"atom-8\" style=\"fill:#FF333301;fill-rule:evenodd;stroke:#FF333301;stroke-width:1.0px;stroke-linecap:butt;stroke-linejoin:miter;stroke-opacity:1\"/>\n",
       "<ellipse cx=\"258.3\" cy=\"84.4\" rx=\"15.2\" ry=\"15.2\" class=\"atom-9\" style=\"fill:#FF333302;fill-rule:evenodd;stroke:#FF333302;stroke-width:1.0px;stroke-linecap:butt;stroke-linejoin:miter;stroke-opacity:1\"/>\n",
       "<ellipse cx=\"202.6\" cy=\"32.8\" rx=\"15.2\" ry=\"15.2\" class=\"atom-10\" style=\"fill:#FF333300;fill-rule:evenodd;stroke:#FF333300;stroke-width:1.0px;stroke-linecap:butt;stroke-linejoin:miter;stroke-opacity:1\"/>\n",
       "<path class=\"bond-0 atom-0 atom-1\" d=\"M 130.1,55.1 L 113.2,129.1\" style=\"fill:none;fill-rule:evenodd;stroke:#000000;stroke-width:2.0px;stroke-linecap:butt;stroke-linejoin:miter;stroke-opacity:1\"/>\n",
       "<path class=\"bond-0 atom-0 atom-1\" d=\"M 139.7,64.1 L 125.8,125.3\" style=\"fill:none;fill-rule:evenodd;stroke:#000000;stroke-width:2.0px;stroke-linecap:butt;stroke-linejoin:miter;stroke-opacity:1\"/>\n",
       "<path class=\"bond-1 atom-1 atom-2\" d=\"M 113.2,129.1 L 168.9,180.8\" style=\"fill:none;fill-rule:evenodd;stroke:#000000;stroke-width:2.0px;stroke-linecap:butt;stroke-linejoin:miter;stroke-opacity:1\"/>\n",
       "<path class=\"bond-2 atom-2 atom-3\" d=\"M 168.9,180.8 L 155.0,241.5\" style=\"fill:none;fill-rule:evenodd;stroke:#000000;stroke-width:2.0px;stroke-linecap:butt;stroke-linejoin:miter;stroke-opacity:1\"/>\n",
       "<path class=\"bond-3 atom-2 atom-4\" d=\"M 168.9,180.8 L 241.4,158.4\" style=\"fill:none;fill-rule:evenodd;stroke:#000000;stroke-width:2.0px;stroke-linecap:butt;stroke-linejoin:miter;stroke-opacity:1\"/>\n",
       "<path class=\"bond-3 atom-2 atom-4\" d=\"M 171.8,167.9 L 231.8,149.4\" style=\"fill:none;fill-rule:evenodd;stroke:#000000;stroke-width:2.0px;stroke-linecap:butt;stroke-linejoin:miter;stroke-opacity:1\"/>\n",
       "<path class=\"bond-4 atom-4 atom-5\" d=\"M 241.4,158.4 L 297.0,210.0\" style=\"fill:none;fill-rule:evenodd;stroke:#000000;stroke-width:2.0px;stroke-linecap:butt;stroke-linejoin:miter;stroke-opacity:1\"/>\n",
       "<path class=\"bond-5 atom-5 atom-6\" d=\"M 297.0,210.0 L 369.6,187.6\" style=\"fill:none;fill-rule:evenodd;stroke:#000000;stroke-width:2.0px;stroke-linecap:butt;stroke-linejoin:miter;stroke-opacity:1\"/>\n",
       "<path class=\"bond-5 atom-5 atom-6\" d=\"M 300.0,197.2 L 359.9,178.7\" style=\"fill:none;fill-rule:evenodd;stroke:#000000;stroke-width:2.0px;stroke-linecap:butt;stroke-linejoin:miter;stroke-opacity:1\"/>\n",
       "<path class=\"bond-6 atom-6 atom-7\" d=\"M 369.6,187.6 L 386.4,113.6\" style=\"fill:none;fill-rule:evenodd;stroke:#000000;stroke-width:2.0px;stroke-linecap:butt;stroke-linejoin:miter;stroke-opacity:1\"/>\n",
       "<path class=\"bond-7 atom-7 atom-8\" d=\"M 386.4,113.6 L 330.8,62.0\" style=\"fill:none;fill-rule:evenodd;stroke:#000000;stroke-width:2.0px;stroke-linecap:butt;stroke-linejoin:miter;stroke-opacity:1\"/>\n",
       "<path class=\"bond-7 atom-7 atom-8\" d=\"M 373.9,117.5 L 327.9,74.8\" style=\"fill:none;fill-rule:evenodd;stroke:#000000;stroke-width:2.0px;stroke-linecap:butt;stroke-linejoin:miter;stroke-opacity:1\"/>\n",
       "<path class=\"bond-8 atom-8 atom-9\" d=\"M 330.8,62.0 L 258.3,84.4\" style=\"fill:none;fill-rule:evenodd;stroke:#000000;stroke-width:2.0px;stroke-linecap:butt;stroke-linejoin:miter;stroke-opacity:1\"/>\n",
       "<path class=\"bond-9 atom-9 atom-10\" d=\"M 258.3,84.4 L 202.6,32.8\" style=\"fill:none;fill-rule:evenodd;stroke:#000000;stroke-width:2.0px;stroke-linecap:butt;stroke-linejoin:miter;stroke-opacity:1\"/>\n",
       "<path class=\"bond-9 atom-9 atom-10\" d=\"M 245.7,88.3 L 199.7,45.6\" style=\"fill:none;fill-rule:evenodd;stroke:#000000;stroke-width:2.0px;stroke-linecap:butt;stroke-linejoin:miter;stroke-opacity:1\"/>\n",
       "<path class=\"bond-10 atom-9 atom-4\" d=\"M 258.3,84.4 L 241.4,158.4\" style=\"fill:none;fill-rule:evenodd;stroke:#000000;stroke-width:2.0px;stroke-linecap:butt;stroke-linejoin:miter;stroke-opacity:1\"/>\n",
       "<path class=\"bond-11 atom-10 atom-0\" d=\"M 202.6,32.8 L 130.1,55.1\" style=\"fill:none;fill-rule:evenodd;stroke:#000000;stroke-width:2.0px;stroke-linecap:butt;stroke-linejoin:miter;stroke-opacity:1\"/>\n",
       "<path d=\"M 129.3,58.8 L 130.1,55.1 L 133.7,54.0\" style=\"fill:none;stroke:#000000;stroke-width:2.0px;stroke-linecap:butt;stroke-linejoin:miter;stroke-opacity:1;\"/>\n",
       "<path d=\"M 114.1,125.4 L 113.2,129.1 L 116.0,131.7\" style=\"fill:none;stroke:#000000;stroke-width:2.0px;stroke-linecap:butt;stroke-linejoin:miter;stroke-opacity:1;\"/>\n",
       "<path d=\"M 294.3,207.4 L 297.0,210.0 L 300.7,208.9\" style=\"fill:none;stroke:#000000;stroke-width:2.0px;stroke-linecap:butt;stroke-linejoin:miter;stroke-opacity:1;\"/>\n",
       "<path d=\"M 365.9,188.7 L 369.6,187.6 L 370.4,183.9\" style=\"fill:none;stroke:#000000;stroke-width:2.0px;stroke-linecap:butt;stroke-linejoin:miter;stroke-opacity:1;\"/>\n",
       "<path d=\"M 385.6,117.3 L 386.4,113.6 L 383.7,111.0\" style=\"fill:none;stroke:#000000;stroke-width:2.0px;stroke-linecap:butt;stroke-linejoin:miter;stroke-opacity:1;\"/>\n",
       "<path d=\"M 333.6,64.6 L 330.8,62.0 L 327.2,63.1\" style=\"fill:none;stroke:#000000;stroke-width:2.0px;stroke-linecap:butt;stroke-linejoin:miter;stroke-opacity:1;\"/>\n",
       "<path d=\"M 205.4,35.3 L 202.6,32.8 L 199.0,33.9\" style=\"fill:none;stroke:#000000;stroke-width:2.0px;stroke-linecap:butt;stroke-linejoin:miter;stroke-opacity:1;\"/>\n",
       "<path class=\"atom-3\" d=\"M 155.1 254.2 Q 157.2 254.8, 158.2 256.1 Q 159.3 257.3, 159.3 259.2 Q 159.3 262.1, 157.4 263.8 Q 155.5 265.5, 151.9 265.5 L 144.7 265.5 L 144.7 244.0 L 151.1 244.0 Q 154.7 244.0, 156.6 245.5 Q 158.4 247.0, 158.4 249.7 Q 158.4 253.0, 155.1 254.2 M 147.6 246.4 L 147.6 253.2 L 151.1 253.2 Q 153.2 253.2, 154.3 252.3 Q 155.4 251.4, 155.4 249.7 Q 155.4 246.4, 151.1 246.4 L 147.6 246.4 M 151.9 263.1 Q 154.0 263.1, 155.1 262.1 Q 156.3 261.1, 156.3 259.2 Q 156.3 257.4, 155.0 256.5 Q 153.8 255.6, 151.5 255.6 L 147.6 255.6 L 147.6 263.1 L 151.9 263.1 \" fill=\"#000000\"/>\n",
       "<path class=\"atom-3\" d=\"M 164.2 249.9 L 164.5 252.0 Q 166.2 249.6, 168.8 249.6 Q 169.7 249.6, 170.8 249.9 L 170.4 252.5 Q 169.1 252.2, 168.3 252.2 Q 167.1 252.2, 166.2 252.7 Q 165.4 253.2, 164.7 254.4 L 164.7 265.5 L 161.9 265.5 L 161.9 249.9 L 164.2 249.9 \" fill=\"#000000\"/>\n",
       "<path class=\"note\" d=\"M 120.8 52.1 Q 118.9 52.1, 117.9 50.6 Q 116.9 49.2, 116.9 46.6 Q 116.9 44.0, 117.9 42.6 Q 118.8 41.1, 120.8 41.1 Q 122.8 41.1, 123.8 42.6 Q 124.8 44.0, 124.8 46.6 Q 124.8 49.2, 123.8 50.6 Q 122.8 52.1, 120.8 52.1 M 120.8 50.9 Q 122.0 50.9, 122.6 49.8 Q 123.3 48.7, 123.3 46.6 Q 123.3 44.5, 122.6 43.4 Q 122.0 42.3, 120.8 42.3 Q 119.7 42.3, 119.0 43.4 Q 118.4 44.5, 118.4 46.6 Q 118.4 48.7, 119.0 49.8 Q 119.7 50.9, 120.8 50.9 \" fill=\"#000000\"/>\n",
       "<path class=\"note\" d=\"M 98.5 137.1 L 100.9 137.1 L 100.9 129.0 L 98.3 129.8 L 97.9 128.9 L 101.2 127.5 L 102.3 127.7 L 102.3 137.1 L 104.4 137.1 L 104.4 138.3 L 98.5 138.3 L 98.5 137.1 \" fill=\"#000000\"/>\n",
       "<path class=\"note\" d=\"M 153.2 181.2 Q 153.6 180.2, 154.5 179.6 Q 155.5 179.1, 156.8 179.1 Q 158.4 179.1, 159.3 179.9 Q 160.2 180.8, 160.2 182.4 Q 160.2 184.0, 159.0 185.5 Q 157.9 186.9, 155.5 188.7 L 160.4 188.7 L 160.4 189.9 L 153.2 189.9 L 153.2 188.9 Q 155.2 187.5, 156.4 186.4 Q 157.6 185.4, 158.1 184.4 Q 158.7 183.4, 158.7 182.5 Q 158.7 181.4, 158.2 180.8 Q 157.7 180.3, 156.8 180.3 Q 155.9 180.3, 155.3 180.6 Q 154.8 181.0, 154.4 181.7 L 153.2 181.2 \" fill=\"#000000\"/>\n",
       "<path class=\"note\" d=\"M 147.9 279.2 Q 149.0 279.5, 149.5 280.2 Q 150.0 280.8, 150.0 281.9 Q 150.0 282.8, 149.5 283.5 Q 149.1 284.2, 148.2 284.6 Q 147.4 285.0, 146.3 285.0 Q 145.2 285.0, 144.3 284.6 Q 143.5 284.2, 142.8 283.4 L 143.6 282.5 Q 144.3 283.2, 144.9 283.5 Q 145.4 283.8, 146.3 283.8 Q 147.3 283.8, 147.9 283.3 Q 148.5 282.7, 148.5 281.9 Q 148.5 280.8, 147.9 280.3 Q 147.2 279.8, 145.9 279.8 L 145.2 279.8 L 145.2 278.7 L 145.8 278.7 Q 147.0 278.7, 147.6 278.2 Q 148.2 277.7, 148.2 276.7 Q 148.2 276.0, 147.7 275.6 Q 147.2 275.2, 146.3 275.2 Q 145.4 275.2, 144.9 275.5 Q 144.3 275.8, 143.9 276.6 L 142.9 276.1 Q 143.2 275.2, 144.2 274.6 Q 145.1 274.0, 146.3 274.0 Q 147.9 274.0, 148.8 274.7 Q 149.8 275.5, 149.8 276.7 Q 149.8 277.6, 149.3 278.2 Q 148.8 278.8, 147.9 279.2 \" fill=\"#000000\"/>\n",
       "<path class=\"note\" d=\"M 241.4 172.4 L 242.7 172.4 L 242.7 173.6 L 241.4 173.6 L 241.4 176.1 L 240.0 176.1 L 240.0 173.6 L 234.5 173.6 L 234.5 172.6 L 239.2 165.3 L 241.4 165.3 L 241.4 172.4 M 236.2 172.4 L 240.0 172.4 L 240.0 166.3 L 236.2 172.4 \" fill=\"#000000\"/>\n",
       "<path class=\"note\" d=\"M 294.5 221.0 Q 295.4 221.0, 296.2 221.4 Q 297.0 221.8, 297.4 222.5 Q 297.9 223.3, 297.9 224.3 Q 297.9 225.4, 297.3 226.2 Q 296.8 227.0, 295.9 227.4 Q 295.0 227.8, 294.0 227.8 Q 293.0 227.8, 292.1 227.4 Q 291.2 227.1, 290.6 226.4 L 291.5 225.4 Q 292.0 226.0, 292.7 226.3 Q 293.4 226.6, 294.1 226.6 Q 295.0 226.6, 295.7 226.0 Q 296.3 225.4, 296.3 224.3 Q 296.3 223.2, 295.7 222.6 Q 295.0 222.1, 294.0 222.1 Q 293.0 222.1, 292.0 222.5 L 291.2 222.1 L 291.7 216.9 L 297.2 216.9 L 297.0 218.2 L 292.9 218.2 L 292.6 221.3 Q 293.6 221.0, 294.5 221.0 \" fill=\"#000000\"/>\n",
       "<path class=\"note\" d=\"M 379.3 194.9 Q 380.3 194.9, 381.0 195.3 Q 381.7 195.7, 382.2 196.5 Q 382.6 197.2, 382.6 198.2 Q 382.6 199.2, 382.1 200.0 Q 381.6 200.8, 380.8 201.3 Q 380.0 201.8, 378.9 201.8 Q 377.0 201.8, 376.1 200.5 Q 375.1 199.2, 375.1 196.6 Q 375.1 193.7, 376.3 192.3 Q 377.5 190.8, 379.8 190.8 Q 380.5 190.8, 381.0 190.9 Q 381.6 191.1, 382.1 191.4 L 381.5 192.4 Q 380.8 192.0, 379.8 192.0 Q 378.3 192.0, 377.5 193.0 Q 376.7 193.9, 376.6 196.0 Q 377.2 195.5, 377.9 195.2 Q 378.6 194.9, 379.3 194.9 M 379.0 200.5 Q 379.5 200.5, 380.0 200.2 Q 380.5 199.9, 380.8 199.4 Q 381.0 198.8, 381.0 198.2 Q 381.0 197.2, 380.5 196.7 Q 380.0 196.1, 379.0 196.1 Q 378.4 196.1, 377.7 196.4 Q 377.1 196.7, 376.6 197.1 Q 376.7 198.9, 377.3 199.7 Q 377.8 200.5, 379.0 200.5 \" fill=\"#000000\"/>\n",
       "<path class=\"note\" d=\"M 400.6 105.7 L 395.0 105.7 L 395.0 104.5 L 402.1 104.5 L 402.1 105.6 L 397.7 115.2 L 396.3 115.2 L 400.6 105.7 \" fill=\"#000000\"/>\n",
       "<path class=\"note\" d=\"M 335.3 49.4 Q 336.3 49.8, 336.8 50.5 Q 337.4 51.1, 337.4 52.2 Q 337.4 53.1, 336.9 53.8 Q 336.5 54.5, 335.6 54.9 Q 334.8 55.2, 333.7 55.2 Q 331.9 55.2, 330.8 54.4 Q 329.8 53.6, 329.8 52.2 Q 329.8 51.3, 330.3 50.6 Q 330.7 49.9, 331.7 49.4 Q 331.0 49.1, 330.6 48.5 Q 330.2 47.9, 330.2 47.0 Q 330.2 45.7, 331.1 45.0 Q 332.0 44.2, 333.6 44.2 Q 335.2 44.2, 336.1 45.0 Q 337.0 45.7, 337.0 47.0 Q 337.0 47.8, 336.6 48.4 Q 336.1 48.9, 335.3 49.4 M 333.6 45.4 Q 332.7 45.4, 332.2 45.8 Q 331.7 46.2, 331.7 47.0 Q 331.7 47.5, 332.1 47.9 Q 332.4 48.3, 332.9 48.5 Q 333.3 48.7, 334.3 49.0 Q 334.9 48.6, 335.2 48.1 Q 335.5 47.6, 335.5 47.0 Q 335.5 46.2, 335.0 45.8 Q 334.5 45.4, 333.6 45.4 M 333.7 54.1 Q 334.7 54.1, 335.3 53.6 Q 335.9 53.0, 335.9 52.1 Q 335.9 51.6, 335.6 51.2 Q 335.2 50.8, 334.8 50.6 Q 334.3 50.4, 333.4 50.1 L 332.8 49.9 Q 332.0 50.4, 331.7 50.9 Q 331.3 51.4, 331.3 52.1 Q 331.3 53.0, 332.0 53.6 Q 332.6 54.1, 333.7 54.1 \" fill=\"#000000\"/>\n",
       "<path class=\"note\" d=\"M 261.0 66.6 Q 262.9 66.6, 263.8 67.9 Q 264.8 69.2, 264.8 71.8 Q 264.8 74.6, 263.6 76.1 Q 262.4 77.6, 260.1 77.6 Q 259.5 77.6, 258.9 77.4 Q 258.3 77.3, 257.8 77.0 L 258.4 76.0 Q 259.2 76.4, 260.1 76.4 Q 261.6 76.4, 262.4 75.4 Q 263.2 74.4, 263.3 72.4 Q 262.7 72.9, 262.0 73.2 Q 261.4 73.4, 260.6 73.4 Q 259.7 73.4, 258.9 73.0 Q 258.2 72.6, 257.8 71.9 Q 257.4 71.1, 257.4 70.2 Q 257.4 69.1, 257.8 68.3 Q 258.3 67.5, 259.1 67.1 Q 259.9 66.6, 261.0 66.6 M 258.9 70.2 Q 258.9 71.1, 259.4 71.7 Q 259.9 72.2, 260.9 72.2 Q 261.5 72.2, 262.2 72.0 Q 262.8 71.7, 263.3 71.2 Q 263.2 69.5, 262.7 68.7 Q 262.1 67.9, 261.0 67.9 Q 260.4 67.9, 259.9 68.2 Q 259.4 68.5, 259.2 69.0 Q 258.9 69.5, 258.9 70.2 \" fill=\"#000000\"/>\n",
       "<path class=\"note\" d=\"M 198.2 24.7 L 200.5 24.7 L 200.5 16.6 L 197.9 17.4 L 197.6 16.5 L 200.9 15.1 L 202.0 15.2 L 202.0 24.7 L 204.1 24.7 L 204.1 25.9 L 198.2 25.9 L 198.2 24.7 \" fill=\"#000000\"/>\n",
       "<path class=\"note\" d=\"M 209.4 26.0 Q 207.4 26.0, 206.4 24.5 Q 205.4 23.1, 205.4 20.5 Q 205.4 17.9, 206.4 16.4 Q 207.4 15.0, 209.4 15.0 Q 211.3 15.0, 212.3 16.4 Q 213.3 17.9, 213.3 20.5 Q 213.3 23.1, 212.3 24.5 Q 211.3 26.0, 209.4 26.0 M 209.4 24.8 Q 210.5 24.8, 211.2 23.7 Q 211.8 22.6, 211.8 20.5 Q 211.8 18.4, 211.2 17.3 Q 210.5 16.2, 209.4 16.2 Q 208.2 16.2, 207.6 17.3 Q 206.9 18.4, 206.9 20.5 Q 206.9 22.6, 207.6 23.7 Q 208.2 24.8, 209.4 24.8 \" fill=\"#000000\"/>\n",
       "</svg>"
      ],
      "text/plain": [
       "<IPython.core.display.SVG object>"
      ]
     },
     "metadata": {},
     "output_type": "display_data"
    }
   ],
   "source": [
    "# Input SMILES string\n",
    "#smiles_str = 'CC1=CC(=O)OC2=C1C=CC(=C2)Br'\n",
    "#smiles_str = 'c2ccc1NCCc1c2'\n",
    "#smiles_str = 'c1c(OC)cccc1'\n",
    "smiles_str = 'c2cc(Br)c1ccccc1c2'\n",
    "\n",
    "# Convert to graph\n",
    "mol_graph = MolecularGraphFromSMILES(smiles_str)\n",
    "graph = mol_graph.to_pyg_data()\n",
    "graph.batch = torch.zeros(graph.x.size(0), dtype=torch.long)  # single molecule batch\n",
    "graph = graph.to(device)\n",
    "\n",
    "# Inference\n",
    "model.eval()\n",
    "with torch.no_grad():\n",
    "    site_logits, predicted_yield = model(\n",
    "        graph.x, graph.edge_index, graph.edge_attr, graph.batch\n",
    "    )\n",
    "    probs = torch.sigmoid(site_logits).cpu().numpy()\n",
    "    yield_pred = predicted_yield.item()\n",
    "\n",
    "print(\"Predicted yield:\", round(yield_pred, 4))\n",
    "print(\"Borylation site probabilities per atom:\")\n",
    "for i, prob in enumerate(probs):\n",
    "    print(f\"  Atom {i}: {prob:.4f}\")\n",
    "\n",
    "# Visualize the molecule with highlighted atoms based on predicted probabilities\n",
    "mol = Chem.MolFromSmiles(smiles_str)\n",
    "drawer = rdMolDraw2D.MolDraw2DSVG(500, 300)\n",
    "drawer.drawOptions().addAtomIndices = True  # Show atom indices\n",
    "\n",
    "# Color atoms by probability\n",
    "atom_colors = {\n",
    "    i: (1.0, 0.2, 0.2, float(prob))  # red color with alpha = probability\n",
    "    for i, prob in enumerate(probs)\n",
    "}\n",
    "rdMolDraw2D.PrepareAndDrawMolecule(drawer, mol, highlightAtoms=atom_colors.keys(), highlightAtomColors=atom_colors)\n",
    "drawer.FinishDrawing()\n",
    "\n",
    "# Display the SVG\n",
    "svg = drawer.GetDrawingText()\n",
    "display(SVG(svg))"
   ]
  },
  {
   "cell_type": "code",
   "execution_count": 19,
   "id": "84f8b761",
   "metadata": {},
   "outputs": [
    {
     "name": "stderr",
     "output_type": "stream",
     "text": [
      "100%|██████████| 1/1 [00:00<00:00,  3.30it/s]"
     ]
    },
    {
     "name": "stdout",
     "output_type": "stream",
     "text": [
      "Atom 0 was chosen in 16/16 molecules\n"
     ]
    },
    {
     "name": "stderr",
     "output_type": "stream",
     "text": [
      "\n"
     ]
    }
   ],
   "source": [
    "# Check how often atom 0 is the max predicted site\n",
    "from tqdm import tqdm\n",
    "from torch_geometric.loader import DataLoader\n",
    "\n",
    "#from comounds import your_dataset  # ← adjust this import\n",
    "\n",
    "dataloader = DataLoader(val_graphs, batch_size=32, shuffle=False)\n",
    "\n",
    "count_atom0 = 0\n",
    "total_mols = 0\n",
    "\n",
    "model.eval()\n",
    "with torch.no_grad():\n",
    "    for batch in tqdm(dataloader):\n",
    "        batch = batch.to(device)\n",
    "        site_logits, _ = model(batch.x, batch.edge_index, batch.edge_attr, batch.batch)\n",
    "        probs = torch.sigmoid(site_logits)\n",
    "\n",
    "        for i in range(batch.batch.max().item() + 1):\n",
    "            mask = batch.batch == i\n",
    "            if mask.sum() == 0:\n",
    "                continue\n",
    "            atom_idx = probs[mask].argmax().item()\n",
    "            if atom_idx == 0:\n",
    "                count_atom0 += 1\n",
    "            total_mols += 1\n",
    "\n",
    "print(f\"Atom 0 was chosen in {count_atom0}/{total_mols} molecules\")"
   ]
  },
  {
   "cell_type": "markdown",
   "id": "72f987d7",
   "metadata": {},
   "source": [
    "New version of code used above"
   ]
  },
  {
   "cell_type": "code",
   "execution_count": null,
   "id": "be7a6148",
   "metadata": {},
   "outputs": [],
   "source": []
  },
  {
   "cell_type": "code",
   "execution_count": null,
   "id": "994279aa",
   "metadata": {},
   "outputs": [],
   "source": []
  },
  {
   "cell_type": "code",
   "execution_count": null,
   "id": "9f28d64e",
   "metadata": {},
   "outputs": [],
   "source": []
  }
 ],
 "metadata": {
  "kernelspec": {
   "display_name": "ml4chem_gnn",
   "language": "python",
   "name": "python3"
  },
  "language_info": {
   "codemirror_mode": {
    "name": "ipython",
    "version": 3
   },
   "file_extension": ".py",
   "mimetype": "text/x-python",
   "name": "python",
   "nbconvert_exporter": "python",
   "pygments_lexer": "ipython3",
   "version": "3.12.10"
  }
 },
 "nbformat": 4,
 "nbformat_minor": 5
}
