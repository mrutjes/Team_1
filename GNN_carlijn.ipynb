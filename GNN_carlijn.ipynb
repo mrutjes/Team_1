{
 "cells": [
  {
   "cell_type": "code",
   "execution_count": 1,
   "id": "981722b7",
   "metadata": {},
   "outputs": [],
   "source": [
    "# import de nodige packages\n",
    "import os\n",
    "import sys\n",
    "import re\n",
    "import math\n",
    "from collections import defaultdict\n",
    "\n",
    "import pandas as pd\n",
    "import numpy as np\n",
    "from tqdm import tqdm\n",
    "\n",
    "import torch\n",
    "from torch_geometric.data import Data, DataLoader\n",
    "from sklearn.model_selection import train_test_split\n",
    "\n",
    "import networkx as nx\n",
    "import matplotlib.pyplot as plt\n",
    "\n",
    "from rdkit import Chem\n",
    "from rdkit.Chem import AllChem, Draw\n",
    "from rdkit.Chem.rdmolfiles import MolFromXYZFile\n",
    "from functions.data_loader import data_loader\n",
    "from classes.smiles_to_graph import MolecularGraphFromSMILES\n",
    "from classes.MPNN import MPNN\n",
    "from functions.compute_loss import compute_loss\n",
    "from functions.evaluations import evaluate_yield\n",
    "from functions.evaluations import evaluate_borylation_site\n",
    "from functions.evaluations import evaluate_reactivity\n",
    "from functions.evaluations import evaluate_model\n",
    "from functions.train import train_MPNN_model"
   ]
  },
  {
   "cell_type": "markdown",
   "id": "3ae3494a",
   "metadata": {},
   "source": [
    "# Load the data and couple the SMILES to the yields and remove nan's"
   ]
  },
  {
   "cell_type": "code",
   "execution_count": 2,
   "id": "309a757a",
   "metadata": {},
   "outputs": [],
   "source": [
    "yields_path = \"data/compounds_yield.csv\"\n",
    "smiles_path = \"data/compounds_smiles.csv\"\n",
    "\n",
    "df_merged = data_loader(yields_path, smiles_path)\n",
    "\n",
    "\n",
    "#print(\"Merged DataFrame:\")\n",
    "#print(df_merged)\n"
   ]
  },
  {
   "cell_type": "markdown",
   "id": "7c0a2886",
   "metadata": {},
   "source": [
    "Convert the SMILES to Graphs"
   ]
  },
  {
   "cell_type": "markdown",
   "id": "656e5f5e",
   "metadata": {},
   "source": [
    "## Zet de SMILES om naar graphs"
   ]
  },
  {
   "cell_type": "code",
   "execution_count": 3,
   "id": "08f329e9",
   "metadata": {},
   "outputs": [
    {
     "name": "stderr",
     "output_type": "stream",
     "text": [
      "Converting SMILES to graphs: 100%|██████████| 83/83 [00:00<00:00, 91.36it/s]\n"
     ]
    }
   ],
   "source": [
    "from rdkit import Chem\n",
    "\n",
    "graphs = []\n",
    "for _, row in tqdm(df_merged.iterrows(), total=len(df_merged), desc=\"Converting SMILES to graphs\"):\n",
    "    try:\n",
    "        mol_graph = MolecularGraphFromSMILES(row['smiles_raw'])\n",
    "        mol = Chem.MolFromSmiles(row['smiles_raw'])  # extra RDKit mol object\n",
    "        num_atoms = mol.GetNumAtoms() if mol is not None else -1\n",
    "\n",
    "        borylation_index = row['borylation_site']\n",
    "\n",
    "        # Debug print vóór de fout\n",
    "        if not (0 <= borylation_index < num_atoms):\n",
    "            raise IndexError(f\"index {borylation_index} is out of bounds for molecule with {num_atoms} atoms\")\n",
    "\n",
    "        graph = mol_graph.to_pyg_data(\n",
    "            borylation_index=borylation_index,\n",
    "            yield_value=row['yield']\n",
    "        )\n",
    "        graphs.append(graph)\n",
    "\n",
    "    except Exception as e:\n",
    "        print(f\"\\n🚨 Fout bij SMILES: {row['smiles_raw']}\")\n",
    "        print(f\"  - borylation_site: {row['borylation_site']}\")\n",
    "        mol = Chem.MolFromSmiles(row['smiles_raw'])\n",
    "        if mol:\n",
    "            print(f\"  - aantal atomen in RDKit mol: {mol.GetNumAtoms()}\")\n",
    "        else:\n",
    "            print(\"  - RDKit kon mol niet parsen!\")\n",
    "        print(f\"  - foutmelding: {e}\")\n",
    "\n",
    "# Verdeel de data in train, validatie en test sets\n",
    "from sklearn.model_selection import train_test_split\n",
    "\n",
    "# Eerste splitsing: 85% train+val, 15% test\n",
    "train_val_graphs, test_graphs = train_test_split(\n",
    "    graphs, test_size=0.15, random_state=42\n",
    ")\n",
    "\n",
    "# Tweede splitsing: 70/15 = 70/85 ≈ 0.8235 voor train\n",
    "train_graphs, val_graphs = train_test_split(\n",
    "    train_val_graphs, test_size=0.1765, random_state=42\n",
    ")\n"
   ]
  },
  {
   "cell_type": "markdown",
   "id": "d4939680",
   "metadata": {},
   "source": [
    "## Zet de graphs in een dataloader zodat het de GNN in kan"
   ]
  },
  {
   "cell_type": "code",
   "execution_count": 4,
   "id": "67b196a9",
   "metadata": {},
   "outputs": [
    {
     "name": "stdout",
     "output_type": "stream",
     "text": [
      "[Epoch 1] Train loss: 415.2318 | Site: 1.6306, Reactivity: 0.0317, Yield: 4135.6941\n",
      "[Epoch 2] Train loss: 411.3606 | Site: 1.5094, Reactivity: 0.0158, Yield: 4098.3536\n",
      "[Epoch 3] Train loss: 398.7181 | Site: 1.4996, Reactivity: 0.0146, Yield: 3972.0389\n",
      "[Epoch 4] Train loss: 361.4044 | Site: 1.5081, Reactivity: 0.0145, Yield: 3598.8191\n",
      "[Epoch 5] Train loss: 319.0465 | Site: 1.5226, Reactivity: 0.0068, Yield: 3175.1708\n",
      "[Epoch 6] Train loss: 248.2540 | Site: 1.5473, Reactivity: 0.0054, Yield: 2467.0134\n",
      "[Epoch 7] Train loss: 170.2375 | Site: 1.5546, Reactivity: 0.0052, Yield: 1686.7773\n",
      "[Epoch 8] Train loss: 99.1494 | Site: 1.5548, Reactivity: 0.0042, Yield: 975.9045\n",
      "[Epoch 9] Train loss: 75.3989 | Site: 1.5495, Reactivity: 0.0030, Yield: 738.4641\n",
      "[Epoch 10] Train loss: 117.8478 | Site: 1.5415, Reactivity: 0.0022, Yield: 1163.0403\n",
      "[Epoch 11] Train loss: 117.1911 | Site: 1.5331, Reactivity: 0.0034, Yield: 1156.5463\n",
      "[Epoch 12] Train loss: 89.0004 | Site: 1.5485, Reactivity: 0.0107, Yield: 874.4130\n",
      "[Epoch 13] Train loss: 74.3357 | Site: 1.5462, Reactivity: 0.0061, Yield: 727.8338\n",
      "[Epoch 14] Train loss: 75.2352 | Site: 1.5691, Reactivity: 0.0124, Yield: 736.5367\n",
      "[Epoch 15] Train loss: 83.1175 | Site: 1.5427, Reactivity: 0.0096, Yield: 815.6517\n",
      "[Epoch 16] Train loss: 87.0486 | Site: 1.5307, Reactivity: 0.0048, Yield: 855.1313\n",
      "[Epoch 17] Train loss: 81.9963 | Site: 1.5198, Reactivity: 0.0117, Yield: 804.6488\n",
      "[Epoch 18] Train loss: 76.3613 | Site: 1.5065, Reactivity: 0.0118, Yield: 748.4293\n",
      "[Epoch 19] Train loss: 72.8268 | Site: 1.4987, Reactivity: 0.0032, Yield: 713.2490\n",
      "[Epoch 20] Train loss: 71.8617 | Site: 1.5045, Reactivity: 0.0022, Yield: 703.5503\n",
      "\n",
      "✅ Evaluatie op testset na training:\n",
      "📊 Testresultaten:\n",
      "🔹 Borylation site prediction:\n",
      "   - Accuracy      : 0.189\n",
      "   - Precision     : 0.116\n",
      "   - Recall        : 1.000\n",
      "   - F1-score      : 0.208\n",
      "   - ROC AUC       : 0.565\n",
      "\n",
      "🔹 Reactivity prediction:\n",
      "   - MSE           : 0.005\n",
      "   - Pearson R     : nan\n",
      "   - Spearman Rho  : nan\n",
      "\n",
      "🔹 Yield prediction:\n",
      "   - MSE           : 627.206\n",
      "   - MAE           : 18.558\n",
      "   - R²            : -0.003\n"
     ]
    }
   ],
   "source": [
    "import torch\n",
    "from torch_geometric.loader import DataLoader\n",
    "\n",
    "# Instellingen\n",
    "batch_size = 32\n",
    "num_epochs = 20\n",
    "learning_rate = 0.001\n",
    "device = torch.device(\"cuda\" if torch.cuda.is_available() else \"cpu\")\n",
    "\n",
    "# Aantal kenmerken per node en edge\n",
    "node_in_feats = train_graphs[0].x.shape[1]\n",
    "edge_in_feats = train_graphs[0].edge_attr.shape[1]\n",
    "\n",
    "# Grootte van de verborgen laag\n",
    "hidden_feats = 64 \n",
    "\n",
    "# DataLoaders\n",
    "train_loader = DataLoader(train_graphs, batch_size=batch_size, shuffle=True)\n",
    "val_loader = DataLoader(val_graphs, batch_size=batch_size, shuffle=False)\n",
    "test_loader = DataLoader(test_graphs, batch_size=batch_size, shuffle=False)\n",
    "\n",
    "# Initialiseer model\n",
    "model = MPNN(node_in_feats=node_in_feats, edge_in_feats=edge_in_feats, hidden_feats=hidden_feats)\n",
    "optimizer = torch.optim.Adam(model.parameters(), lr=learning_rate)\n",
    "\n",
    "# Training loop met validatie\n",
    "for epoch in range(num_epochs):\n",
    "    train_losses = train_MPNN_model(model, train_loader, optimizer, device)\n",
    "    val_metrics = evaluate_model(model, val_loader, device)\n",
    "\n",
    "    print(f\"[Epoch {epoch+1}] Train loss: {train_losses['total']:.4f} | \"\n",
    "        f\"Site: {train_losses['site']:.4f}, \"\n",
    "        f\"Reactivity: {train_losses['react']:.4f}, \"\n",
    "        f\"Yield: {train_losses['yield']:.4f}\")\n",
    "\n",
    "\n",
    "# Evaluatie op testset na training\n",
    "print(\"\\n✅ Evaluatie op testset na training:\")\n",
    "test_metrics = evaluate_model(model, test_loader, device)\n",
    "\n",
    "print(\"📊 Testresultaten:\")\n",
    "print(f\"🔹 Borylation site prediction:\")\n",
    "print(f\"   - Accuracy      : {test_metrics['site_Accuracy']:.3f}\")\n",
    "print(f\"   - Precision     : {test_metrics['site_Precision']:.3f}\")\n",
    "print(f\"   - Recall        : {test_metrics['site_Recall']:.3f}\")\n",
    "print(f\"   - F1-score      : {test_metrics['site_F1']:.3f}\")\n",
    "print(f\"   - ROC AUC       : {test_metrics['site_AUC']:.3f}\")\n",
    "\n",
    "print(f\"\\n🔹 Reactivity prediction:\")\n",
    "print(f\"   - MSE           : {test_metrics['react_MSE']:.3f}\")\n",
    "print(f\"   - Pearson R     : {test_metrics['react_Pearson']:.3f}\")\n",
    "print(f\"   - Spearman Rho  : {test_metrics['react_Spearman']:.3f}\")\n",
    "\n",
    "print(f\"\\n🔹 Yield prediction:\")\n",
    "print(f\"   - MSE           : {test_metrics['yield_MSE']:.3f}\")\n",
    "print(f\"   - MAE           : {test_metrics['yield_MAE']:.3f}\")\n",
    "print(f\"   - R²            : {test_metrics['yield_R2']:.3f}\")\n",
    "\n"
   ]
  },
  {
   "cell_type": "code",
   "execution_count": null,
   "id": "42b4cbc9",
   "metadata": {},
   "outputs": [],
   "source": []
  },
  {
   "cell_type": "markdown",
   "id": "72f987d7",
   "metadata": {},
   "source": [
    "New version of code used above"
   ]
  },
  {
   "cell_type": "code",
   "execution_count": null,
   "id": "be7a6148",
   "metadata": {},
   "outputs": [],
   "source": []
  },
  {
   "cell_type": "code",
   "execution_count": null,
   "id": "994279aa",
   "metadata": {},
   "outputs": [],
   "source": []
  },
  {
   "cell_type": "code",
   "execution_count": null,
   "id": "9f28d64e",
   "metadata": {},
   "outputs": [],
   "source": []
  }
 ],
 "metadata": {
  "kernelspec": {
   "display_name": "sobo",
   "language": "python",
   "name": "python3"
  },
  "language_info": {
   "codemirror_mode": {
    "name": "ipython",
    "version": 3
   },
   "file_extension": ".py",
   "mimetype": "text/x-python",
   "name": "python",
   "nbconvert_exporter": "python",
   "pygments_lexer": "ipython3",
   "version": "3.9.21"
  }
 },
 "nbformat": 4,
 "nbformat_minor": 5
}
